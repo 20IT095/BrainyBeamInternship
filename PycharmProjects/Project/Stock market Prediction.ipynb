{
 "cells": [
  {
   "cell_type": "markdown",
   "id": "aeecfc7a",
   "metadata": {},
   "source": [
    "# Project Name :Stock market Prediction \n",
    " ###   dataset : TSLA.csv"
   ]
  },
  {
   "cell_type": "markdown",
   "id": "d71104c5",
   "metadata": {},
   "source": [
    "# Definition for the project\n",
    "> The project aims to develop a stock market prediction system using historical data of a specific stock, in this case, i have used Tesla (TSLA) dataset. The system utilizes machine learning techniques to forecast future stock prices based on past price movements, trading volume, and other relevant factors. The goal is to provide insights and predictions that can assist investors and traders in making informed decisions."
   ]
  },
  {
   "cell_type": "markdown",
   "id": "3eb33a37",
   "metadata": {},
   "source": [
    "# About Dataset\n",
    "Tesla Stock Dataset from 2010 to 2021"
   ]
  },
  {
   "cell_type": "markdown",
   "id": "a5299a86",
   "metadata": {},
   "source": [
    "# Import libraries"
   ]
  },
  {
   "cell_type": "code",
   "execution_count": 1,
   "id": "26c65697",
   "metadata": {},
   "outputs": [],
   "source": [
    "import numpy as np\n",
    "import pandas as pd\n",
    "import matplotlib.pyplot as plt\n",
    "%matplotlib inline\n",
    "import seaborn as sns\n",
    "from sklearn import metrics\n",
    "from sklearn.metrics import mean_squared_error\n",
    "from sklearn.metrics import mean_absolute_error\n",
    "import warnings\n",
    "warnings.filterwarnings('ignore')"
   ]
  },
  {
   "cell_type": "markdown",
   "id": "ee017582",
   "metadata": {},
   "source": [
    "# Reading the dataset"
   ]
  },
  {
   "cell_type": "code",
   "execution_count": 2,
   "id": "0e4b979e",
   "metadata": {},
   "outputs": [],
   "source": [
    "df = pd.read_csv('TSLA.csv')"
   ]
  },
  {
   "cell_type": "code",
   "execution_count": 3,
   "id": "89425e55",
   "metadata": {},
   "outputs": [
    {
     "data": {
      "text/html": [
       "<div>\n",
       "<style scoped>\n",
       "    .dataframe tbody tr th:only-of-type {\n",
       "        vertical-align: middle;\n",
       "    }\n",
       "\n",
       "    .dataframe tbody tr th {\n",
       "        vertical-align: top;\n",
       "    }\n",
       "\n",
       "    .dataframe thead th {\n",
       "        text-align: right;\n",
       "    }\n",
       "</style>\n",
       "<table border=\"1\" class=\"dataframe\">\n",
       "  <thead>\n",
       "    <tr style=\"text-align: right;\">\n",
       "      <th></th>\n",
       "      <th>Date</th>\n",
       "      <th>Open</th>\n",
       "      <th>High</th>\n",
       "      <th>Low</th>\n",
       "      <th>Close</th>\n",
       "      <th>Adj Close</th>\n",
       "      <th>Volume</th>\n",
       "    </tr>\n",
       "  </thead>\n",
       "  <tbody>\n",
       "    <tr>\n",
       "      <th>0</th>\n",
       "      <td>2010-06-29</td>\n",
       "      <td>19.000000</td>\n",
       "      <td>25.000000</td>\n",
       "      <td>17.540001</td>\n",
       "      <td>23.889999</td>\n",
       "      <td>23.889999</td>\n",
       "      <td>18766300</td>\n",
       "    </tr>\n",
       "    <tr>\n",
       "      <th>1</th>\n",
       "      <td>2010-06-30</td>\n",
       "      <td>25.790001</td>\n",
       "      <td>30.420000</td>\n",
       "      <td>23.299999</td>\n",
       "      <td>23.830000</td>\n",
       "      <td>23.830000</td>\n",
       "      <td>17187100</td>\n",
       "    </tr>\n",
       "    <tr>\n",
       "      <th>2</th>\n",
       "      <td>2010-07-01</td>\n",
       "      <td>25.000000</td>\n",
       "      <td>25.920000</td>\n",
       "      <td>20.270000</td>\n",
       "      <td>21.959999</td>\n",
       "      <td>21.959999</td>\n",
       "      <td>8218800</td>\n",
       "    </tr>\n",
       "    <tr>\n",
       "      <th>3</th>\n",
       "      <td>2010-07-02</td>\n",
       "      <td>23.000000</td>\n",
       "      <td>23.100000</td>\n",
       "      <td>18.709999</td>\n",
       "      <td>19.200001</td>\n",
       "      <td>19.200001</td>\n",
       "      <td>5139800</td>\n",
       "    </tr>\n",
       "    <tr>\n",
       "      <th>4</th>\n",
       "      <td>2010-07-06</td>\n",
       "      <td>20.000000</td>\n",
       "      <td>20.000000</td>\n",
       "      <td>15.830000</td>\n",
       "      <td>16.110001</td>\n",
       "      <td>16.110001</td>\n",
       "      <td>6866900</td>\n",
       "    </tr>\n",
       "    <tr>\n",
       "      <th>...</th>\n",
       "      <td>...</td>\n",
       "      <td>...</td>\n",
       "      <td>...</td>\n",
       "      <td>...</td>\n",
       "      <td>...</td>\n",
       "      <td>...</td>\n",
       "      <td>...</td>\n",
       "    </tr>\n",
       "    <tr>\n",
       "      <th>2411</th>\n",
       "      <td>2020-01-28</td>\n",
       "      <td>568.489990</td>\n",
       "      <td>576.809998</td>\n",
       "      <td>558.080017</td>\n",
       "      <td>566.900024</td>\n",
       "      <td>566.900024</td>\n",
       "      <td>11788500</td>\n",
       "    </tr>\n",
       "    <tr>\n",
       "      <th>2412</th>\n",
       "      <td>2020-01-29</td>\n",
       "      <td>575.690002</td>\n",
       "      <td>589.799988</td>\n",
       "      <td>567.429993</td>\n",
       "      <td>580.989990</td>\n",
       "      <td>580.989990</td>\n",
       "      <td>17801500</td>\n",
       "    </tr>\n",
       "    <tr>\n",
       "      <th>2413</th>\n",
       "      <td>2020-01-30</td>\n",
       "      <td>632.419983</td>\n",
       "      <td>650.880005</td>\n",
       "      <td>618.000000</td>\n",
       "      <td>640.809998</td>\n",
       "      <td>640.809998</td>\n",
       "      <td>29005700</td>\n",
       "    </tr>\n",
       "    <tr>\n",
       "      <th>2414</th>\n",
       "      <td>2020-01-31</td>\n",
       "      <td>640.000000</td>\n",
       "      <td>653.000000</td>\n",
       "      <td>632.520020</td>\n",
       "      <td>650.570007</td>\n",
       "      <td>650.570007</td>\n",
       "      <td>15719300</td>\n",
       "    </tr>\n",
       "    <tr>\n",
       "      <th>2415</th>\n",
       "      <td>2020-02-03</td>\n",
       "      <td>673.690002</td>\n",
       "      <td>786.140015</td>\n",
       "      <td>673.520020</td>\n",
       "      <td>780.000000</td>\n",
       "      <td>780.000000</td>\n",
       "      <td>47065000</td>\n",
       "    </tr>\n",
       "  </tbody>\n",
       "</table>\n",
       "<p>2416 rows × 7 columns</p>\n",
       "</div>"
      ],
      "text/plain": [
       "            Date        Open        High         Low       Close   Adj Close  \\\n",
       "0     2010-06-29   19.000000   25.000000   17.540001   23.889999   23.889999   \n",
       "1     2010-06-30   25.790001   30.420000   23.299999   23.830000   23.830000   \n",
       "2     2010-07-01   25.000000   25.920000   20.270000   21.959999   21.959999   \n",
       "3     2010-07-02   23.000000   23.100000   18.709999   19.200001   19.200001   \n",
       "4     2010-07-06   20.000000   20.000000   15.830000   16.110001   16.110001   \n",
       "...          ...         ...         ...         ...         ...         ...   \n",
       "2411  2020-01-28  568.489990  576.809998  558.080017  566.900024  566.900024   \n",
       "2412  2020-01-29  575.690002  589.799988  567.429993  580.989990  580.989990   \n",
       "2413  2020-01-30  632.419983  650.880005  618.000000  640.809998  640.809998   \n",
       "2414  2020-01-31  640.000000  653.000000  632.520020  650.570007  650.570007   \n",
       "2415  2020-02-03  673.690002  786.140015  673.520020  780.000000  780.000000   \n",
       "\n",
       "        Volume  \n",
       "0     18766300  \n",
       "1     17187100  \n",
       "2      8218800  \n",
       "3      5139800  \n",
       "4      6866900  \n",
       "...        ...  \n",
       "2411  11788500  \n",
       "2412  17801500  \n",
       "2413  29005700  \n",
       "2414  15719300  \n",
       "2415  47065000  \n",
       "\n",
       "[2416 rows x 7 columns]"
      ]
     },
     "execution_count": 3,
     "metadata": {},
     "output_type": "execute_result"
    }
   ],
   "source": [
    "df"
   ]
  },
  {
   "cell_type": "code",
   "execution_count": 4,
   "id": "56b54555",
   "metadata": {},
   "outputs": [
    {
     "data": {
      "text/html": [
       "<div>\n",
       "<style scoped>\n",
       "    .dataframe tbody tr th:only-of-type {\n",
       "        vertical-align: middle;\n",
       "    }\n",
       "\n",
       "    .dataframe tbody tr th {\n",
       "        vertical-align: top;\n",
       "    }\n",
       "\n",
       "    .dataframe thead th {\n",
       "        text-align: right;\n",
       "    }\n",
       "</style>\n",
       "<table border=\"1\" class=\"dataframe\">\n",
       "  <thead>\n",
       "    <tr style=\"text-align: right;\">\n",
       "      <th></th>\n",
       "      <th>Date</th>\n",
       "      <th>Open</th>\n",
       "      <th>High</th>\n",
       "      <th>Low</th>\n",
       "      <th>Close</th>\n",
       "      <th>Adj Close</th>\n",
       "      <th>Volume</th>\n",
       "    </tr>\n",
       "  </thead>\n",
       "  <tbody>\n",
       "    <tr>\n",
       "      <th>0</th>\n",
       "      <td>2010-06-29</td>\n",
       "      <td>19.000000</td>\n",
       "      <td>25.00</td>\n",
       "      <td>17.540001</td>\n",
       "      <td>23.889999</td>\n",
       "      <td>23.889999</td>\n",
       "      <td>18766300</td>\n",
       "    </tr>\n",
       "    <tr>\n",
       "      <th>1</th>\n",
       "      <td>2010-06-30</td>\n",
       "      <td>25.790001</td>\n",
       "      <td>30.42</td>\n",
       "      <td>23.299999</td>\n",
       "      <td>23.830000</td>\n",
       "      <td>23.830000</td>\n",
       "      <td>17187100</td>\n",
       "    </tr>\n",
       "    <tr>\n",
       "      <th>2</th>\n",
       "      <td>2010-07-01</td>\n",
       "      <td>25.000000</td>\n",
       "      <td>25.92</td>\n",
       "      <td>20.270000</td>\n",
       "      <td>21.959999</td>\n",
       "      <td>21.959999</td>\n",
       "      <td>8218800</td>\n",
       "    </tr>\n",
       "    <tr>\n",
       "      <th>3</th>\n",
       "      <td>2010-07-02</td>\n",
       "      <td>23.000000</td>\n",
       "      <td>23.10</td>\n",
       "      <td>18.709999</td>\n",
       "      <td>19.200001</td>\n",
       "      <td>19.200001</td>\n",
       "      <td>5139800</td>\n",
       "    </tr>\n",
       "    <tr>\n",
       "      <th>4</th>\n",
       "      <td>2010-07-06</td>\n",
       "      <td>20.000000</td>\n",
       "      <td>20.00</td>\n",
       "      <td>15.830000</td>\n",
       "      <td>16.110001</td>\n",
       "      <td>16.110001</td>\n",
       "      <td>6866900</td>\n",
       "    </tr>\n",
       "  </tbody>\n",
       "</table>\n",
       "</div>"
      ],
      "text/plain": [
       "         Date       Open   High        Low      Close  Adj Close    Volume\n",
       "0  2010-06-29  19.000000  25.00  17.540001  23.889999  23.889999  18766300\n",
       "1  2010-06-30  25.790001  30.42  23.299999  23.830000  23.830000  17187100\n",
       "2  2010-07-01  25.000000  25.92  20.270000  21.959999  21.959999   8218800\n",
       "3  2010-07-02  23.000000  23.10  18.709999  19.200001  19.200001   5139800\n",
       "4  2010-07-06  20.000000  20.00  15.830000  16.110001  16.110001   6866900"
      ]
     },
     "execution_count": 4,
     "metadata": {},
     "output_type": "execute_result"
    }
   ],
   "source": [
    "df.head(5)"
   ]
  },
  {
   "cell_type": "code",
   "execution_count": 5,
   "id": "47dddcdc",
   "metadata": {},
   "outputs": [
    {
     "data": {
      "text/plain": [
       "(2416, 7)"
      ]
     },
     "execution_count": 5,
     "metadata": {},
     "output_type": "execute_result"
    }
   ],
   "source": [
    "df.shape"
   ]
  },
  {
   "cell_type": "markdown",
   "id": "a3beeaa5",
   "metadata": {},
   "source": [
    "# Data Exploring"
   ]
  },
  {
   "cell_type": "code",
   "execution_count": 6,
   "id": "0c0fa3fe",
   "metadata": {},
   "outputs": [
    {
     "name": "stdout",
     "output_type": "stream",
     "text": [
      "<class 'pandas.core.frame.DataFrame'>\n",
      "RangeIndex: 2416 entries, 0 to 2415\n",
      "Data columns (total 7 columns):\n",
      " #   Column     Non-Null Count  Dtype  \n",
      "---  ------     --------------  -----  \n",
      " 0   Date       2416 non-null   object \n",
      " 1   Open       2416 non-null   float64\n",
      " 2   High       2416 non-null   float64\n",
      " 3   Low        2416 non-null   float64\n",
      " 4   Close      2416 non-null   float64\n",
      " 5   Adj Close  2416 non-null   float64\n",
      " 6   Volume     2416 non-null   int64  \n",
      "dtypes: float64(5), int64(1), object(1)\n",
      "memory usage: 132.2+ KB\n"
     ]
    }
   ],
   "source": [
    "# it will check datatype of dataset and also it check if any null values are there or not in the dataset\n",
    "df.info()"
   ]
  },
  {
   "cell_type": "code",
   "execution_count": 7,
   "id": "718b67e6",
   "metadata": {},
   "outputs": [
    {
     "data": {
      "text/plain": [
       "Date         0\n",
       "Open         0\n",
       "High         0\n",
       "Low          0\n",
       "Close        0\n",
       "Adj Close    0\n",
       "Volume       0\n",
       "dtype: int64"
      ]
     },
     "execution_count": 7,
     "metadata": {},
     "output_type": "execute_result"
    }
   ],
   "source": [
    "# it will show the number of null values from the dataset\n",
    "df.isnull().sum()"
   ]
  },
  {
   "cell_type": "code",
   "execution_count": 8,
   "id": "d838bcea",
   "metadata": {},
   "outputs": [
    {
     "data": {
      "text/html": [
       "<div>\n",
       "<style scoped>\n",
       "    .dataframe tbody tr th:only-of-type {\n",
       "        vertical-align: middle;\n",
       "    }\n",
       "\n",
       "    .dataframe tbody tr th {\n",
       "        vertical-align: top;\n",
       "    }\n",
       "\n",
       "    .dataframe thead th {\n",
       "        text-align: right;\n",
       "    }\n",
       "</style>\n",
       "<table border=\"1\" class=\"dataframe\">\n",
       "  <thead>\n",
       "    <tr style=\"text-align: right;\">\n",
       "      <th></th>\n",
       "      <th>Open</th>\n",
       "      <th>High</th>\n",
       "      <th>Low</th>\n",
       "      <th>Close</th>\n",
       "      <th>Adj Close</th>\n",
       "      <th>Volume</th>\n",
       "    </tr>\n",
       "  </thead>\n",
       "  <tbody>\n",
       "    <tr>\n",
       "      <th>count</th>\n",
       "      <td>2416.000000</td>\n",
       "      <td>2416.000000</td>\n",
       "      <td>2416.000000</td>\n",
       "      <td>2416.000000</td>\n",
       "      <td>2416.000000</td>\n",
       "      <td>2.416000e+03</td>\n",
       "    </tr>\n",
       "    <tr>\n",
       "      <th>mean</th>\n",
       "      <td>186.271147</td>\n",
       "      <td>189.578224</td>\n",
       "      <td>182.916639</td>\n",
       "      <td>186.403651</td>\n",
       "      <td>186.403651</td>\n",
       "      <td>5.572722e+06</td>\n",
       "    </tr>\n",
       "    <tr>\n",
       "      <th>std</th>\n",
       "      <td>118.740163</td>\n",
       "      <td>120.892329</td>\n",
       "      <td>116.857591</td>\n",
       "      <td>119.136020</td>\n",
       "      <td>119.136020</td>\n",
       "      <td>4.987809e+06</td>\n",
       "    </tr>\n",
       "    <tr>\n",
       "      <th>min</th>\n",
       "      <td>16.139999</td>\n",
       "      <td>16.629999</td>\n",
       "      <td>14.980000</td>\n",
       "      <td>15.800000</td>\n",
       "      <td>15.800000</td>\n",
       "      <td>1.185000e+05</td>\n",
       "    </tr>\n",
       "    <tr>\n",
       "      <th>25%</th>\n",
       "      <td>34.342498</td>\n",
       "      <td>34.897501</td>\n",
       "      <td>33.587501</td>\n",
       "      <td>34.400002</td>\n",
       "      <td>34.400002</td>\n",
       "      <td>1.899275e+06</td>\n",
       "    </tr>\n",
       "    <tr>\n",
       "      <th>50%</th>\n",
       "      <td>213.035004</td>\n",
       "      <td>216.745002</td>\n",
       "      <td>208.870002</td>\n",
       "      <td>212.960007</td>\n",
       "      <td>212.960007</td>\n",
       "      <td>4.578400e+06</td>\n",
       "    </tr>\n",
       "    <tr>\n",
       "      <th>75%</th>\n",
       "      <td>266.450012</td>\n",
       "      <td>270.927513</td>\n",
       "      <td>262.102501</td>\n",
       "      <td>266.774994</td>\n",
       "      <td>266.774994</td>\n",
       "      <td>7.361150e+06</td>\n",
       "    </tr>\n",
       "    <tr>\n",
       "      <th>max</th>\n",
       "      <td>673.690002</td>\n",
       "      <td>786.140015</td>\n",
       "      <td>673.520020</td>\n",
       "      <td>780.000000</td>\n",
       "      <td>780.000000</td>\n",
       "      <td>4.706500e+07</td>\n",
       "    </tr>\n",
       "  </tbody>\n",
       "</table>\n",
       "</div>"
      ],
      "text/plain": [
       "              Open         High          Low        Close    Adj Close  \\\n",
       "count  2416.000000  2416.000000  2416.000000  2416.000000  2416.000000   \n",
       "mean    186.271147   189.578224   182.916639   186.403651   186.403651   \n",
       "std     118.740163   120.892329   116.857591   119.136020   119.136020   \n",
       "min      16.139999    16.629999    14.980000    15.800000    15.800000   \n",
       "25%      34.342498    34.897501    33.587501    34.400002    34.400002   \n",
       "50%     213.035004   216.745002   208.870002   212.960007   212.960007   \n",
       "75%     266.450012   270.927513   262.102501   266.774994   266.774994   \n",
       "max     673.690002   786.140015   673.520020   780.000000   780.000000   \n",
       "\n",
       "             Volume  \n",
       "count  2.416000e+03  \n",
       "mean   5.572722e+06  \n",
       "std    4.987809e+06  \n",
       "min    1.185000e+05  \n",
       "25%    1.899275e+06  \n",
       "50%    4.578400e+06  \n",
       "75%    7.361150e+06  \n",
       "max    4.706500e+07  "
      ]
     },
     "execution_count": 8,
     "metadata": {},
     "output_type": "execute_result"
    }
   ],
   "source": [
    "# summary of the statistical measures for each column in a Dataset.\n",
    "df.describe()"
   ]
  },
  {
   "cell_type": "markdown",
   "id": "981be2e1",
   "metadata": {},
   "source": [
    "# Heatmap and Correlation matrics"
   ]
  },
  {
   "cell_type": "code",
   "execution_count": 9,
   "id": "35e7cf0f",
   "metadata": {},
   "outputs": [],
   "source": [
    "# Extract the required columns for the heatmap\n",
    "data = df[['Open', 'High', 'Low', 'Close', 'Volume']]"
   ]
  },
  {
   "cell_type": "code",
   "execution_count": 10,
   "id": "df45ac69",
   "metadata": {},
   "outputs": [],
   "source": [
    "# Calculate the correlation matrix\n",
    "corr_matrix = data.corr()"
   ]
  },
  {
   "cell_type": "code",
   "execution_count": 11,
   "id": "152a87cd",
   "metadata": {},
   "outputs": [
    {
     "data": {
      "text/plain": [
       "<AxesSubplot:>"
      ]
     },
     "execution_count": 11,
     "metadata": {},
     "output_type": "execute_result"
    },
    {
     "data": {
      "image/png": "[encoded data removed]",
      "text/plain": [
       "<Figure size 640x480 with 2 Axes>"
      ]
     },
     "metadata": {},
     "output_type": "display_data"
    }
   ],
   "source": [
    "# Create the heatmap\n",
    "sns.heatmap(corr_matrix,annot=True,cmap='Reds')"
   ]
  },
  {
   "cell_type": "code",
   "execution_count": 51,
   "id": "4c979d88",
   "metadata": {},
   "outputs": [
    {
     "data": {
      "image/png": "[encoded data removed]",
      "text/plain": [
       "<Figure size 1000x1000 with 1 Axes>"
      ]
     },
     "metadata": {},
     "output_type": "display_data"
    }
   ],
   "source": [
    "# Using groupby in Date column and Close column and calculate the average closing price for each group\n",
    "close = df.groupby('Date')['Open'].mean()\n",
    "\n",
    "# Plotting the bar chart\n",
    "plt.figure(figsize=(10, 10))\n",
    "plt.bar(close.index, close)\n",
    "plt.title('Average Closing Price by Date')\n",
    "plt.xticks(rotation=0)  # Rotate x-axis labels for better visibility if needed\n",
    "plt.show()"
   ]
  },
  {
   "cell_type": "markdown",
   "id": "a50c6faf",
   "metadata": {},
   "source": [
    ">  It calculates the average closing price for each group. It will visualize the overall trend or pattern in the average closing prices over time. The average closing prices is highest stock price at end of 2020 year"
   ]
  },
  {
   "cell_type": "code",
   "execution_count": 13,
   "id": "483b610a",
   "metadata": {},
   "outputs": [
    {
     "data": {
      "image/png": "[encoded data removed]",
      "text/plain": [
       "<Figure size 640x480 with 1 Axes>"
      ]
     },
     "metadata": {},
     "output_type": "display_data"
    }
   ],
   "source": [
    "# Dataframe with Open, High, Low, Close columns\n",
    "df[['Open', 'High', 'Low','Close']].sum().plot(kind='pie', autopct='%1.1f%%')\n",
    "\n",
    "plt.xlabel('Values')\n",
    "plt.title('Open, High, Low, and Close')\n",
    "plt.show()"
   ]
  },
  {
   "cell_type": "markdown",
   "id": "bf4d6595",
   "metadata": {},
   "source": [
    " > calculating the sum of each column and then calculating the precentage of each column to represent in this pie chart"
   ]
  },
  {
   "cell_type": "code",
   "execution_count": 14,
   "id": "0684bd80",
   "metadata": {},
   "outputs": [],
   "source": [
    "df['Date'] = pd.to_datetime(df['Date'])  # Convert 'Date' column to datetime format"
   ]
  },
  {
   "cell_type": "code",
   "execution_count": 48,
   "id": "72e97706",
   "metadata": {},
   "outputs": [],
   "source": [
    "# Group the data by the \"date\" column and calculate the mean of the \"open\" column\n",
    "grouped= df.groupby('Date')['Close'].mean()"
   ]
  },
  {
   "cell_type": "code",
   "execution_count": 50,
   "id": "4d89cc7d",
   "metadata": {},
   "outputs": [
    {
     "data": {
      "image/png": "[encoded data removed]",
      "text/plain": [
       "<Figure size 1000x1000 with 1 Axes>"
      ]
     },
     "metadata": {},
     "output_type": "display_data"
    }
   ],
   "source": [
    "prices = grouped.values\n",
    "\n",
    "# Create the distplot\n",
    "plt.figure(figsize=(10, 10))\n",
    "sns.distplot(prices, bins=30)  # if distplot is deprecated, use sns.histplot instead\n",
    "plt.title('Average Closing Price of TSLA')\n",
    "plt.xlabel('Average Closing Price')\n",
    "plt.ylabel('Density')\n",
    "\n",
    "# Show the plot\n",
    "plt.show()"
   ]
  },
  {
   "cell_type": "markdown",
   "id": "b51c3604",
   "metadata": {},
   "source": [
    "> A histogram visually represents the distribution of numerical data by dividing the data into bins of different ranges. The number of data points that fall into each bin are represented by the height of a bar above that bin.\n",
    "\n",
    "> the average closing price for the TSLA stock in your data ranged between these values from 0 to 700."
   ]
  },
  {
   "cell_type": "markdown",
   "id": "9f51a6ae",
   "metadata": {},
   "source": [
    "# Select the features (X) and the target variable (y)"
   ]
  },
  {
   "cell_type": "code",
   "execution_count": 17,
   "id": "8a6a1441",
   "metadata": {},
   "outputs": [],
   "source": [
    "# Select the features (X) and the target variable (y)\n",
    "features = df[['Open', 'High', 'Low', 'Volume']]  # Input features\n",
    "target = df['Close']  # Target variable"
   ]
  },
  {
   "cell_type": "markdown",
   "id": "5698414b",
   "metadata": {},
   "source": [
    "# spliting the dataset into train and test sets"
   ]
  },
  {
   "cell_type": "code",
   "execution_count": 18,
   "id": "d2cbf306",
   "metadata": {},
   "outputs": [],
   "source": [
    "from sklearn.model_selection import train_test_split"
   ]
  },
  {
   "cell_type": "code",
   "execution_count": 19,
   "id": "eb08f56b",
   "metadata": {},
   "outputs": [],
   "source": [
    "# X_train and y_train represent the training data\n",
    "# X_test and y_test represent the test data\n",
    "X_train, X_test, y_train, y_test = train_test_split(features, target, test_size=0.2, random_state=42)"
   ]
  },
  {
   "cell_type": "code",
   "execution_count": 20,
   "id": "583a4ef8",
   "metadata": {
    "scrolled": true
   },
   "outputs": [
    {
     "data": {
      "text/html": [
       "<div>\n",
       "<style scoped>\n",
       "    .dataframe tbody tr th:only-of-type {\n",
       "        vertical-align: middle;\n",
       "    }\n",
       "\n",
       "    .dataframe tbody tr th {\n",
       "        vertical-align: top;\n",
       "    }\n",
       "\n",
       "    .dataframe thead th {\n",
       "        text-align: right;\n",
       "    }\n",
       "</style>\n",
       "<table border=\"1\" class=\"dataframe\">\n",
       "  <thead>\n",
       "    <tr style=\"text-align: right;\">\n",
       "      <th></th>\n",
       "      <th>Open</th>\n",
       "      <th>High</th>\n",
       "      <th>Low</th>\n",
       "      <th>Volume</th>\n",
       "    </tr>\n",
       "  </thead>\n",
       "  <tbody>\n",
       "    <tr>\n",
       "      <th>1666</th>\n",
       "      <td>266.250000</td>\n",
       "      <td>271.179993</td>\n",
       "      <td>266.149994</td>\n",
       "      <td>7820200</td>\n",
       "    </tr>\n",
       "    <tr>\n",
       "      <th>1563</th>\n",
       "      <td>197.059998</td>\n",
       "      <td>198.490005</td>\n",
       "      <td>193.449997</td>\n",
       "      <td>3589400</td>\n",
       "    </tr>\n",
       "    <tr>\n",
       "      <th>544</th>\n",
       "      <td>30.000000</td>\n",
       "      <td>30.850000</td>\n",
       "      <td>29.650000</td>\n",
       "      <td>1471000</td>\n",
       "    </tr>\n",
       "    <tr>\n",
       "      <th>1025</th>\n",
       "      <td>222.720001</td>\n",
       "      <td>226.970001</td>\n",
       "      <td>221.750000</td>\n",
       "      <td>3087100</td>\n",
       "    </tr>\n",
       "    <tr>\n",
       "      <th>821</th>\n",
       "      <td>188.589996</td>\n",
       "      <td>191.830002</td>\n",
       "      <td>175.399994</td>\n",
       "      <td>20775400</td>\n",
       "    </tr>\n",
       "    <tr>\n",
       "      <th>...</th>\n",
       "      <td>...</td>\n",
       "      <td>...</td>\n",
       "      <td>...</td>\n",
       "      <td>...</td>\n",
       "    </tr>\n",
       "    <tr>\n",
       "      <th>1638</th>\n",
       "      <td>218.559998</td>\n",
       "      <td>219.199997</td>\n",
       "      <td>214.119995</td>\n",
       "      <td>4045000</td>\n",
       "    </tr>\n",
       "    <tr>\n",
       "      <th>1095</th>\n",
       "      <td>243.000000</td>\n",
       "      <td>247.559998</td>\n",
       "      <td>241.320007</td>\n",
       "      <td>4203800</td>\n",
       "    </tr>\n",
       "    <tr>\n",
       "      <th>1130</th>\n",
       "      <td>223.809998</td>\n",
       "      <td>224.320007</td>\n",
       "      <td>219.520004</td>\n",
       "      <td>4505700</td>\n",
       "    </tr>\n",
       "    <tr>\n",
       "      <th>1294</th>\n",
       "      <td>260.329987</td>\n",
       "      <td>260.649994</td>\n",
       "      <td>255.020004</td>\n",
       "      <td>3604300</td>\n",
       "    </tr>\n",
       "    <tr>\n",
       "      <th>860</th>\n",
       "      <td>119.379997</td>\n",
       "      <td>122.720001</td>\n",
       "      <td>116.099998</td>\n",
       "      <td>13885500</td>\n",
       "    </tr>\n",
       "  </tbody>\n",
       "</table>\n",
       "<p>1932 rows × 4 columns</p>\n",
       "</div>"
      ],
      "text/plain": [
       "            Open        High         Low    Volume\n",
       "1666  266.250000  271.179993  266.149994   7820200\n",
       "1563  197.059998  198.490005  193.449997   3589400\n",
       "544    30.000000   30.850000   29.650000   1471000\n",
       "1025  222.720001  226.970001  221.750000   3087100\n",
       "821   188.589996  191.830002  175.399994  20775400\n",
       "...          ...         ...         ...       ...\n",
       "1638  218.559998  219.199997  214.119995   4045000\n",
       "1095  243.000000  247.559998  241.320007   4203800\n",
       "1130  223.809998  224.320007  219.520004   4505700\n",
       "1294  260.329987  260.649994  255.020004   3604300\n",
       "860   119.379997  122.720001  116.099998  13885500\n",
       "\n",
       "[1932 rows x 4 columns]"
      ]
     },
     "execution_count": 20,
     "metadata": {},
     "output_type": "execute_result"
    }
   ],
   "source": [
    "X_train"
   ]
  },
  {
   "cell_type": "code",
   "execution_count": 21,
   "id": "6c55bf93",
   "metadata": {},
   "outputs": [
    {
     "data": {
      "text/plain": [
       "1666    269.200012\n",
       "1563    196.050003\n",
       "544      30.730000\n",
       "1025    223.570007\n",
       "821     180.949997\n",
       "           ...    \n",
       "1638    214.679993\n",
       "1095    242.589996\n",
       "1130    220.970001\n",
       "1294    255.250000\n",
       "860     120.500000\n",
       "Name: Close, Length: 1932, dtype: float64"
      ]
     },
     "execution_count": 21,
     "metadata": {},
     "output_type": "execute_result"
    }
   ],
   "source": [
    "y_train"
   ]
  },
  {
   "cell_type": "markdown",
   "id": "901ad893",
   "metadata": {},
   "source": [
    "# Using normalization for feature scaling "
   ]
  },
  {
   "cell_type": "code",
   "execution_count": 22,
   "id": "d352fbda",
   "metadata": {},
   "outputs": [],
   "source": [
    "from sklearn.preprocessing import MinMaxScaler\n",
    "from sklearn.preprocessing import StandardScaler"
   ]
  },
  {
   "cell_type": "code",
   "execution_count": 23,
   "id": "8b33e0aa",
   "metadata": {},
   "outputs": [],
   "source": [
    "# initializing StandardScaler with scaler\n",
    "scaler = StandardScaler()\n",
    "\n",
    "# initializing MinMaxScaler with sc\n",
    "sc = MinMaxScaler(feature_range=(0,1))"
   ]
  },
  {
   "cell_type": "code",
   "execution_count": 24,
   "id": "dc5f0641",
   "metadata": {},
   "outputs": [
    {
     "data": {
      "text/plain": [
       "MinMaxScaler()"
      ]
     },
     "execution_count": 24,
     "metadata": {},
     "output_type": "execute_result"
    }
   ],
   "source": [
    "# fiting the x_train set using MinMaxScaler\n",
    "sc.fit(X_train)"
   ]
  },
  {
   "cell_type": "code",
   "execution_count": 25,
   "id": "9dbb9084",
   "metadata": {},
   "outputs": [
    {
     "data": {
      "text/plain": [
       "StandardScaler()"
      ]
     },
     "execution_count": 25,
     "metadata": {},
     "output_type": "execute_result"
    }
   ],
   "source": [
    "# fiting the x_train set using StandardScaler\n",
    "scaler.fit(X_train)"
   ]
  },
  {
   "cell_type": "code",
   "execution_count": 26,
   "id": "f7c377b5",
   "metadata": {},
   "outputs": [],
   "source": [
    "# Fit and transform the data using Standard Scaler\n",
    "scaled_data_standard = scaler.fit_transform(X_train)"
   ]
  },
  {
   "cell_type": "code",
   "execution_count": 27,
   "id": "60e770da",
   "metadata": {},
   "outputs": [
    {
     "data": {
      "text/plain": [
       "array([[ 0.68124829,  0.6821323 ,  0.71996994,  0.43300187],\n",
       "       [ 0.09280486,  0.07516557,  0.09186694, -0.4068481 ],\n",
       "       [-1.32799809, -1.32464076, -1.32330878, -0.82736861],\n",
       "       ...,\n",
       "       [ 0.32030683,  0.29084798,  0.31710284, -0.22495472],\n",
       "       [ 0.63090008,  0.59420603,  0.62381065, -0.40389032],\n",
       "       [-0.56784386, -0.55751952, -0.57641049,  1.63701578]])"
      ]
     },
     "execution_count": 27,
     "metadata": {},
     "output_type": "execute_result"
    }
   ],
   "source": [
    "scaled_data_standard"
   ]
  },
  {
   "cell_type": "code",
   "execution_count": 28,
   "id": "2a9f5116",
   "metadata": {},
   "outputs": [],
   "source": [
    "# Fit and transform the data using MinMax Sclaer\n",
    "minmax = sc.fit_transform(X_train)"
   ]
  },
  {
   "cell_type": "code",
   "execution_count": 29,
   "id": "a674fa47",
   "metadata": {},
   "outputs": [
    {
     "data": {
      "text/plain": [
       "array([[0.38036651, 0.33079491, 0.3814043 , 0.1640527 ],\n",
       "       [0.27514257, 0.23633221, 0.27100858, 0.07393309],\n",
       "       [0.02107825, 0.01847929, 0.02227655, 0.02880939],\n",
       "       ...,\n",
       "       [0.31582389, 0.26989903, 0.31059616, 0.09345106],\n",
       "       [0.37136337, 0.31711088, 0.36450329, 0.07425048],\n",
       "       [0.15700707, 0.13786695, 0.15355179, 0.2932487 ]])"
      ]
     },
     "execution_count": 29,
     "metadata": {},
     "output_type": "execute_result"
    }
   ],
   "source": [
    "minmax"
   ]
  },
  {
   "cell_type": "markdown",
   "id": "093b6ff8",
   "metadata": {},
   "source": [
    "#  Linear Regression "
   ]
  },
  {
   "cell_type": "code",
   "execution_count": 30,
   "id": "37429996",
   "metadata": {},
   "outputs": [],
   "source": [
    "from sklearn.linear_model import LinearRegression"
   ]
  },
  {
   "cell_type": "code",
   "execution_count": 31,
   "id": "7c4ea2fe",
   "metadata": {},
   "outputs": [],
   "source": [
    "# initializing Linear Regression with lr which represent Linear Regression\n",
    "lr=LinearRegression()"
   ]
  },
  {
   "cell_type": "code",
   "execution_count": 32,
   "id": "4389f80a",
   "metadata": {},
   "outputs": [
    {
     "data": {
      "text/plain": [
       "LinearRegression()"
      ]
     },
     "execution_count": 32,
     "metadata": {},
     "output_type": "execute_result"
    }
   ],
   "source": [
    "# fiting X_train,y_train set using linear regression\n",
    "lr.fit(X_train, y_train)"
   ]
  },
  {
   "cell_type": "code",
   "execution_count": 33,
   "id": "82591137",
   "metadata": {},
   "outputs": [],
   "source": [
    "# Make predictions on the test set\n",
    "y_pred = lr.predict(X_test)"
   ]
  },
  {
   "cell_type": "code",
   "execution_count": 34,
   "id": "5d6538a3",
   "metadata": {},
   "outputs": [
    {
     "data": {
      "text/plain": [
       "array([ 31.44206177,  24.52988898, 278.90510109, 330.67352198,\n",
       "       262.08142218, 381.90729039,  29.09570903, 212.1742186 ,\n",
       "       225.06169066, 307.80420179,  34.50033779, 361.9056908 ,\n",
       "        26.45625495, 419.92945868, 311.45509087,  30.03764163,\n",
       "       191.63013711, 234.01371581, 362.83952656,  96.08507755,\n",
       "       313.79667736, 292.54556274, 220.5042004 ,  23.2730571 ,\n",
       "       379.54318066,  28.45998775,  28.31989413, 210.5013221 ,\n",
       "       233.86979724, 225.09005037, 255.0754546 ,  20.32050098,\n",
       "       259.57101136, 220.80741596, 637.10139941, 208.60477906,\n",
       "       209.10412797, 217.28354366, 294.75391551,  33.99357035,\n",
       "       146.5104529 , 234.98690688, 313.29438519,  25.06654922,\n",
       "       230.85285327, 297.71580786,  32.30456231, 148.09259823,\n",
       "       229.40112069,  39.18284053, 223.22379618,  33.28371033,\n",
       "        37.19320035, 357.77729796, 199.88055409,  38.19614102,\n",
       "        34.10702552, 226.34480561, 234.64920635,  27.68106438,\n",
       "       290.90648957, 152.56973451,  33.86887253, 336.96970631,\n",
       "       319.96376518, 239.20483896, 243.1644425 , 335.90316861,\n",
       "       250.6444757 , 219.96484666, 326.20173105,  34.79387974,\n",
       "       267.63239429,  31.43020755,  28.09130316, 531.38363831,\n",
       "       197.74491334, 183.36604883, 317.31308746, 166.98579537,\n",
       "       194.9953734 ,  35.20071537,  22.51039779, 221.53263374,\n",
       "        27.57261661, 363.95140802, 212.40835015, 164.5318674 ,\n",
       "        28.84221071, 192.00122887,  31.48421208, 203.78594805,\n",
       "       134.20254335, 287.81346236, 210.64341793, 169.58738527,\n",
       "       236.32347273, 204.01359189, 249.58862057, 144.33117128,\n",
       "       224.13101787,  29.60476464, 254.40808536, 311.27579732,\n",
       "        28.53867227,  27.32705119, 375.72722858, 490.82298771,\n",
       "        27.05231941, 327.15679923, 287.01338706, 202.66833284,\n",
       "        89.52671976,  25.10718523, 249.85816061, 236.34427633,\n",
       "        28.0331249 , 355.24611022,  29.35668659,  27.27060654,\n",
       "       214.32178399, 103.2264728 , 188.57048552, 404.38047504,\n",
       "        19.48304224, 173.8325188 , 256.99002269, 192.74416234,\n",
       "       241.66122476,  27.80722619,  29.37104219, 198.78644793,\n",
       "       352.81430417, 292.19151548,  26.84058619, 214.16588848,\n",
       "       231.62989637,  27.85001443,  28.75648058, 256.48166325,\n",
       "        27.27939472,  34.18266301, 248.70484551,  31.66396936,\n",
       "       207.55792188, 232.7967299 , 249.09606609,  31.80211727,\n",
       "        34.03205739,  33.17658364, 221.70457324, 180.75833175,\n",
       "       311.96565679, 304.72528789, 215.70098073, 225.15472826,\n",
       "       310.21405189,  33.37927264, 241.92467682, 208.71439714,\n",
       "       305.06052292, 223.4738086 , 358.45391513, 206.08602082,\n",
       "       261.22498058, 168.54926675, 264.48509507, 200.07330671,\n",
       "       297.70071399,  30.72409192, 307.18292918, 230.02415317,\n",
       "       234.66852187,  32.28889357, 169.55713363,  37.32639457,\n",
       "       213.97010881,  33.42643055, 176.74930778,  27.40545934,\n",
       "       366.83644381,  18.95425078,  27.51169841,  27.69052378,\n",
       "       317.48343412, 250.31686845,  25.76148455, 216.69268028,\n",
       "       284.52380795,  35.74437408, 270.83847938, 352.96190573,\n",
       "       208.8552405 ,  31.71591504, 174.01410901, 243.89279183,\n",
       "        33.68682364, 335.19700305, 306.07659316, 255.70252938,\n",
       "       248.40299115, 213.07009623, 232.93455921,  29.21470249,\n",
       "       355.48767281,  24.38178918, 172.47338434, 227.67329045,\n",
       "        38.71777398,  20.64583916, 204.47029078,  33.35498279,\n",
       "       332.76386423, 215.5391118 , 238.64272097, 296.87200857,\n",
       "        30.03474557,  32.76979592, 203.84907146, 190.21988514,\n",
       "       203.16434081, 313.69834245,  33.3475575 , 138.15245715,\n",
       "       353.71915569,  35.1833263 , 214.83106049, 260.88965375,\n",
       "       128.20011597,  35.00991743, 193.31986357,  33.06502291,\n",
       "        24.01905135, 279.28636198, 323.37683142, 218.5763493 ,\n",
       "       190.74814291, 243.34011721,  37.71622398, 259.78914326,\n",
       "       243.81518374, 165.65328018, 338.78513368,  33.06829118,\n",
       "       256.46212769, 232.13808215, 307.02201752, 190.44810466,\n",
       "        37.57391325, 151.80268298,  33.12892183, 220.03046136,\n",
       "       225.31188906,  30.77652948, 317.42552739,  35.22045161,\n",
       "        23.63058625, 239.86181865, 167.93243199, 311.58324211,\n",
       "       121.5878601 , 309.19169011, 314.40221021, 162.48599395,\n",
       "       248.11643022, 323.14188243,  23.07001326, 358.36055027,\n",
       "       380.758454  , 305.25421863, 193.01821501,  28.3820753 ,\n",
       "       258.73083479,  23.6626358 ,  20.82089785,  20.94311096,\n",
       "        39.10246164,  20.828693  , 237.28228841,  30.72078202,\n",
       "       266.95542065, 195.85519083,  31.2953797 ,  30.81347286,\n",
       "       248.61057301, 212.41587188,  33.33635197, 177.83987263,\n",
       "       477.69947119, 360.11503718,  39.47296951, 226.80393464,\n",
       "       216.69237837, 209.76655859, 232.05842133, 258.57275744,\n",
       "       230.61885111, 314.02694071, 345.05150597, 346.65616279,\n",
       "        27.99856336,  20.41071106, 214.8364512 ,  33.44015368,\n",
       "        20.09010334,  44.96673773, 274.81250763,  29.51710015,\n",
       "       526.47138625, 255.78321695, 360.9851734 , 207.46261766,\n",
       "        23.19949244, 226.75803545, 313.22769745, 205.8877157 ,\n",
       "       242.50950377,  29.3906272 , 263.59952555, 229.64543132,\n",
       "       258.67233367,  20.13486801, 326.22634621, 313.99123709,\n",
       "       211.56654975, 251.91565573, 206.64024738, 299.9290597 ,\n",
       "       376.32437957, 327.81945809,  22.62231973, 211.95138678,\n",
       "       127.21110089,  34.04591606, 208.81206248, 248.5669139 ,\n",
       "       262.44055135, 283.95324313, 182.96107708, 276.91579389,\n",
       "        41.07204788, 221.69605284,  23.17276921, 117.8059136 ,\n",
       "       322.75545017, 306.38746124, 320.79097471, 238.21030462,\n",
       "       343.83167313,  27.30056   ,  30.2003018 , 228.15500317,\n",
       "        34.41973661, 333.46842138,  20.87051038, 372.8850629 ,\n",
       "       306.70510071, 277.80408029,  32.10728391,  31.33108251,\n",
       "       359.78728375, 188.00043823,  22.62318212, 117.89300901,\n",
       "       367.86351759, 227.49434155, 202.89369497, 225.01478202,\n",
       "       192.74541072, 247.48325395, 245.70854903, 369.53513983,\n",
       "        27.30430589, 297.97389568, 201.74691615, 214.09328119,\n",
       "       301.17843892, 581.575604  , 283.0491074 , 287.52078758,\n",
       "       336.73202502, 219.99360621,  20.54738861, 239.42850995,\n",
       "       232.61072385,  38.41995004, 213.25654948, 206.00297711,\n",
       "       229.00944833, 140.70994833,  20.37404098, 247.41581584,\n",
       "       309.21731745, 304.79628488, 341.33093813, 286.81690313,\n",
       "        23.80429191,  33.01510954, 223.52056671, 253.51849318,\n",
       "       107.65066141,  27.27105152, 269.11684169, 350.1785004 ,\n",
       "       430.9202291 ,  22.88229633, 202.77572887, 282.58166993,\n",
       "       320.62752629,  35.09032936,  31.02136085, 203.41101683,\n",
       "       236.50873346, 245.42221862, 203.5007011 , 353.24508185,\n",
       "        30.20937578,  29.01526846,  30.13994785,  28.44266919,\n",
       "        21.2813189 ,  30.39051048, 251.29257396, 246.43127212,\n",
       "       227.48276502,  28.68237699, 307.11136479,  27.32440563,\n",
       "        22.74382956, 348.07473349,  33.63942652, 229.75953111,\n",
       "       246.26758651,  27.73938048,  56.50998336,  34.2450059 ,\n",
       "        26.79698372, 298.20924129, 197.13844107, 246.80775521,\n",
       "       236.49871055,  28.80316101,  35.66359325, 249.52777194,\n",
       "        24.6439454 , 194.0414633 , 272.87861924,  28.03600629,\n",
       "       322.03290249, 202.64056849, 262.36032481, 364.00446957,\n",
       "        30.98815181,  23.8975577 ,  33.06027109, 276.40430091,\n",
       "        34.48558516, 301.81799325,  22.24663791,  30.13698115,\n",
       "       216.70405118, 358.27004631, 356.24074515,  24.17339003,\n",
       "       198.44092305, 347.13346328, 263.24835159, 308.29401941,\n",
       "        31.15199721, 326.62162833,  34.40482314,  23.43997073,\n",
       "       228.88228685,  27.79356824, 261.4276076 , 189.66851077,\n",
       "       212.79397518, 349.48892437,  29.67720633, 174.97450042,\n",
       "       254.60883329,  24.91901515, 341.2455307 , 183.12728033])"
      ]
     },
     "execution_count": 34,
     "metadata": {},
     "output_type": "execute_result"
    }
   ],
   "source": [
    "# displaying the y_pred\n",
    "y_pred"
   ]
  },
  {
   "cell_type": "markdown",
   "id": "ba167e29",
   "metadata": {},
   "source": [
    "### Applying Mean Squared Error , Mean Absolute Error and Root Mean Squared Error after applying Linear Regression"
   ]
  },
  {
   "cell_type": "code",
   "execution_count": 35,
   "id": "62632f84",
   "metadata": {},
   "outputs": [
    {
     "name": "stdout",
     "output_type": "stream",
     "text": [
      "Mean Absolute Error (MAE): 1.3377885628495352\n"
     ]
    }
   ],
   "source": [
    "# Evaluate the model\n",
    "mae = mean_absolute_error(y_test, y_pred)\n",
    "print(\"Mean Absolute Error (MAE):\", mae)"
   ]
  },
  {
   "cell_type": "code",
   "execution_count": 36,
   "id": "40059d48",
   "metadata": {},
   "outputs": [
    {
     "name": "stdout",
     "output_type": "stream",
     "text": [
      "Mean Squared Error: 4.379434894427943\n"
     ]
    }
   ],
   "source": [
    "# Evaluate the model\n",
    "mse = mean_squared_error(y_test, y_pred)\n",
    "print(\"Mean Squared Error:\", mse)"
   ]
  },
  {
   "cell_type": "code",
   "execution_count": 37,
   "id": "57966aed",
   "metadata": {},
   "outputs": [
    {
     "name": "stdout",
     "output_type": "stream",
     "text": [
      "Root Mean Squared Error: 2.092709940347191\n"
     ]
    }
   ],
   "source": [
    "rmse = np.sqrt(mean_squared_error(y_test, y_pred))\n",
    "print(\"Root Mean Squared Error:\", rmse)"
   ]
  },
  {
   "cell_type": "markdown",
   "id": "b8fcfd6d",
   "metadata": {},
   "source": [
    "# Applying the pipeline and Perceptron"
   ]
  },
  {
   "cell_type": "code",
   "execution_count": 60,
   "id": "1edfb84d",
   "metadata": {},
   "outputs": [],
   "source": [
    "from sklearn.pipeline import Pipeline\n",
    "from sklearn.linear_model import Perceptron"
   ]
  },
  {
   "cell_type": "code",
   "execution_count": 61,
   "id": "15b13388",
   "metadata": {},
   "outputs": [],
   "source": [
    "# Ensure the data is sorted by Date\n",
    "df = df.sort_values('Date')"
   ]
  },
  {
   "cell_type": "code",
   "execution_count": 62,
   "id": "d2b1d0d8",
   "metadata": {},
   "outputs": [],
   "source": [
    "# Create a new binary column where 1 indicates the closing price was higher than the open price\n",
    "df['Up'] = (df['Close'] > df['Open']).astype(int)"
   ]
  },
  {
   "cell_type": "code",
   "execution_count": 63,
   "id": "7af5a7eb",
   "metadata": {},
   "outputs": [
    {
     "data": {
      "text/plain": [
       "1       0\n",
       "2       0\n",
       "3       0\n",
       "4       0\n",
       "5       0\n",
       "       ..\n",
       "2411    0\n",
       "2412    1\n",
       "2413    1\n",
       "2414    1\n",
       "2415    1\n",
       "Name: Up, Length: 2415, dtype: int32"
      ]
     },
     "execution_count": 63,
     "metadata": {},
     "output_type": "execute_result"
    }
   ],
   "source": [
    "df['Up']"
   ]
  },
  {
   "cell_type": "code",
   "execution_count": 64,
   "id": "3c8a0366",
   "metadata": {},
   "outputs": [],
   "source": [
    "# Remove the first row of data as we have no previous day to compare it to\n",
    "df = df.iloc[1:]"
   ]
  },
  {
   "cell_type": "code",
   "execution_count": 65,
   "id": "89c48eaf",
   "metadata": {},
   "outputs": [],
   "source": [
    "# Use the 'Open', 'High', 'Low', 'Close', 'Volume' columns as features\n",
    "X = df[['Open', 'High', 'Low', 'Close', 'Volume']].values\n",
    "# Use the 'Up' column as the target\n",
    "y = df['Up'].values"
   ]
  },
  {
   "cell_type": "code",
   "execution_count": 66,
   "id": "f3f6d888",
   "metadata": {},
   "outputs": [
    {
     "data": {
      "text/plain": [
       "array([[2.50000000e+01, 2.59200000e+01, 2.02700000e+01, 2.19599990e+01,\n",
       "        8.21880000e+06],\n",
       "       [2.30000000e+01, 2.31000000e+01, 1.87099990e+01, 1.92000010e+01,\n",
       "        5.13980000e+06],\n",
       "       [2.00000000e+01, 2.00000000e+01, 1.58300000e+01, 1.61100010e+01,\n",
       "        6.86690000e+06],\n",
       "       ...,\n",
       "       [6.32419983e+02, 6.50880005e+02, 6.18000000e+02, 6.40809998e+02,\n",
       "        2.90057000e+07],\n",
       "       [6.40000000e+02, 6.53000000e+02, 6.32520020e+02, 6.50570007e+02,\n",
       "        1.57193000e+07],\n",
       "       [6.73690002e+02, 7.86140015e+02, 6.73520020e+02, 7.80000000e+02,\n",
       "        4.70650000e+07]])"
      ]
     },
     "execution_count": 66,
     "metadata": {},
     "output_type": "execute_result"
    }
   ],
   "source": [
    "X"
   ]
  },
  {
   "cell_type": "code",
   "execution_count": 67,
   "id": "d6ffe2b9",
   "metadata": {},
   "outputs": [
    {
     "data": {
      "text/plain": [
       "array([0, 0, 0, ..., 1, 1, 1])"
      ]
     },
     "execution_count": 67,
     "metadata": {},
     "output_type": "execute_result"
    }
   ],
   "source": [
    "y"
   ]
  },
  {
   "cell_type": "code",
   "execution_count": 68,
   "id": "8f8469f3",
   "metadata": {},
   "outputs": [],
   "source": [
    "# Split the data into training and testing sets\n",
    "X_train, X_test, y_train, y_test = train_test_split(X, y, test_size=0.2, shuffle=False)"
   ]
  },
  {
   "cell_type": "code",
   "execution_count": 69,
   "id": "1f271538",
   "metadata": {},
   "outputs": [],
   "source": [
    "# Create a pipeline that standardizes the data then applies a perceptron\n",
    "pipeline = Pipeline([\n",
    "    ('scale', StandardScaler()),\n",
    "    ('regressor', Perceptron())\n",
    "])"
   ]
  },
  {
   "cell_type": "code",
   "execution_count": 70,
   "id": "f0bdaa00",
   "metadata": {},
   "outputs": [
    {
     "data": {
      "text/plain": [
       "Pipeline(steps=[('scale', StandardScaler()), ('regressor', Perceptron())])"
      ]
     },
     "execution_count": 70,
     "metadata": {},
     "output_type": "execute_result"
    }
   ],
   "source": [
    "# Train the perceptron\n",
    "pipeline.fit(X_train, y_train)"
   ]
  },
  {
   "cell_type": "code",
   "execution_count": 71,
   "id": "71e0a227",
   "metadata": {},
   "outputs": [],
   "source": [
    "# Make predictions\n",
    "prediction = pipeline.predict(X_test)"
   ]
  },
  {
   "cell_type": "code",
   "execution_count": 72,
   "id": "a14dc59d",
   "metadata": {},
   "outputs": [
    {
     "data": {
      "text/plain": [
       "array([0, 0, 1, 0, 1, 1, 1, 0, 0, 0, 0, 0, 1, 0, 0, 0, 0, 0, 1, 0, 0, 1,\n",
       "       1, 0, 0, 1, 0, 0, 0, 0, 0, 1, 1, 0, 0, 0, 0, 1, 1, 0, 1, 1, 1, 1,\n",
       "       1, 0, 1, 0, 0, 0, 0, 1, 0, 0, 1, 0, 1, 0, 1, 1, 1, 0, 1, 1, 0, 1,\n",
       "       0, 0, 1, 0, 0, 1, 1, 1, 0, 1, 0, 0, 1, 1, 0, 0, 0, 0, 0, 0, 1, 1,\n",
       "       0, 1, 0, 1, 0, 1, 0, 1, 0, 1, 0, 1, 1, 0, 0, 1, 1, 1, 0, 0, 1, 0,\n",
       "       0, 0, 0, 0, 0, 0, 0, 1, 1, 0, 0, 1, 0, 0, 0, 0, 0, 0, 0, 0, 1, 1,\n",
       "       0, 1, 1, 1, 1, 0, 1, 0, 1, 0, 0, 1, 0, 0, 1, 0, 0, 0, 0, 0, 1, 0,\n",
       "       0, 0, 0, 1, 0, 0, 0, 0, 1, 0, 0, 1, 0, 1, 1, 1, 1, 0, 1, 1, 1, 0,\n",
       "       0, 1, 0, 1, 1, 0, 1, 0, 0, 1, 1, 1, 0, 1, 0, 1, 1, 0, 1, 0, 0, 1,\n",
       "       0, 0, 0, 0, 0, 1, 0, 1, 0, 1, 0, 1, 0, 1, 1, 0, 1, 1, 1, 0, 1, 0,\n",
       "       0, 0, 0, 0, 1, 1, 1, 1, 1, 1, 1, 0, 1, 0, 0, 0, 0, 0, 0, 0, 1, 0,\n",
       "       0, 0, 0, 0, 1, 1, 0, 0, 0, 0, 0, 0, 1, 1, 0, 1, 0, 0, 0, 0, 1, 1,\n",
       "       0, 0, 1, 1, 1, 1, 1, 0, 1, 1, 1, 0, 0, 0, 0, 0, 0, 1, 0, 1, 0, 1,\n",
       "       0, 0, 0, 1, 0, 0, 0, 1, 1, 0, 0, 0, 0, 0, 1, 1, 0, 0, 1, 1, 0, 1,\n",
       "       0, 0, 1, 0, 0, 0, 1, 0, 1, 0, 1, 0, 0, 1, 1, 1, 0, 1, 0, 1, 0, 0,\n",
       "       0, 1, 1, 0, 0, 0, 0, 0, 1, 1, 0, 1, 1, 1, 0, 0, 1, 0, 1, 1, 0, 1,\n",
       "       1, 1, 0, 0, 1, 0, 0, 1, 1, 0, 0, 1, 0, 0, 1, 1, 0, 0, 0, 0, 1, 0,\n",
       "       1, 1, 0, 1, 0, 1, 0, 1, 1, 1, 0, 0, 0, 1, 0, 0, 0, 1, 0, 1, 1, 0,\n",
       "       0, 1, 0, 1, 0, 1, 1, 1, 0, 1, 1, 0, 1, 0, 0, 0, 1, 0, 1, 1, 0, 0,\n",
       "       1, 1, 0, 1, 0, 1, 1, 1, 0, 1, 0, 1, 0, 0, 1, 0, 0, 0, 0, 0, 0, 0,\n",
       "       1, 1, 0, 0, 0, 1, 1, 0, 1, 0, 1, 0, 1, 1, 0, 1, 1, 1, 0, 0, 1, 1,\n",
       "       1, 1, 1, 1, 0, 0, 1, 0, 0, 1, 0, 1, 0, 1, 0, 1, 0, 1, 1, 1, 1])"
      ]
     },
     "execution_count": 72,
     "metadata": {},
     "output_type": "execute_result"
    }
   ],
   "source": [
    "prediction"
   ]
  },
  {
   "cell_type": "markdown",
   "id": "d973980b",
   "metadata": {},
   "source": [
    "### Applying Mean Squared Error , Mean Absolute Error and Root Mean Squared Error after applying pipeline"
   ]
  },
  {
   "cell_type": "code",
   "execution_count": 73,
   "id": "96b7a8d5",
   "metadata": {},
   "outputs": [
    {
     "name": "stdout",
     "output_type": "stream",
     "text": [
      "Mean Absolute Error (MAE): 0.09109730848861283\n"
     ]
    }
   ],
   "source": [
    "# Calculate Mean Absolute Error (MAE)\n",
    "mae = mean_absolute_error(y_test, prediction)\n",
    "print(f'Mean Absolute Error (MAE): {mae}')"
   ]
  },
  {
   "cell_type": "code",
   "execution_count": 74,
   "id": "c92c3b66",
   "metadata": {},
   "outputs": [
    {
     "name": "stdout",
     "output_type": "stream",
     "text": [
      "Mean Squared Error (MSE): 0.09109730848861283\n"
     ]
    }
   ],
   "source": [
    "# Calculate Mean Squared Error (MSE)\n",
    "mse = mean_squared_error(y_test, prediction)\n",
    "print(f'Mean Squared Error (MSE): {mse}')"
   ]
  },
  {
   "cell_type": "code",
   "execution_count": 75,
   "id": "f16af8db",
   "metadata": {},
   "outputs": [
    {
     "name": "stdout",
     "output_type": "stream",
     "text": [
      "Root Mean Squared Error (RMSE): 0.3018233067352699\n"
     ]
    }
   ],
   "source": [
    "# Calculate Root Mean Squared Error (RMSE)\n",
    "rmse = np.sqrt(mse)\n",
    "print(f'Root Mean Squared Error (RMSE): {rmse}')"
   ]
  },
  {
   "cell_type": "code",
   "execution_count": 76,
   "id": "d87349b3",
   "metadata": {},
   "outputs": [
    {
     "data": {
      "image/png": "[encoded data removed]",
      "text/plain": [
       "<Figure size 640x480 with 1 Axes>"
      ]
     },
     "metadata": {},
     "output_type": "display_data"
    }
   ],
   "source": [
    "sns.histplot(y_pred, bins=2)\n",
    "plt.title('Perceptron Predictions')\n",
    "plt.xlabel('Predicted Class')\n",
    "plt.ylabel('Frequency')\n",
    "plt.show()"
   ]
  },
  {
   "cell_type": "markdown",
   "id": "0b7e7551",
   "metadata": {},
   "source": [
    "> The height of the bar at 0 will indicate the number of instances where the model predicted that the stock would go down.\n",
    "\n",
    "> The height of the bar at 1 will indicate the number of instances where the model predicted that the stock would go up."
   ]
  },
  {
   "cell_type": "code",
   "execution_count": 77,
   "id": "5bc25b0e",
   "metadata": {},
   "outputs": [
    {
     "data": {
      "text/plain": [
       "array([0, 0, 1, 0, 1, 1, 1, 0, 0, 0, 0, 0, 1, 0, 0, 0, 0, 0, 1, 0, 0, 1,\n",
       "       1, 0, 0, 1, 0, 0, 0, 0, 0, 1, 1, 0, 0, 0, 0, 1, 1, 0, 1, 1, 1, 1,\n",
       "       1, 0, 1, 0, 0, 0, 0, 1, 0, 0, 1, 0, 1, 0, 1, 1, 1, 0, 1, 1, 0, 1,\n",
       "       0, 0, 1, 0, 0, 1, 1, 1, 0, 1, 0, 0, 1, 1, 0, 0, 0, 0, 0, 0, 1, 1,\n",
       "       0, 1, 0, 1, 0, 1, 0, 1, 0, 1, 0, 1, 1, 0, 0, 1, 1, 1, 0, 0, 1, 0,\n",
       "       0, 0, 0, 0, 0, 0, 0, 1, 1, 0, 0, 1, 0, 0, 0, 0, 0, 0, 0, 0, 1, 1,\n",
       "       0, 1, 1, 1, 1, 0, 1, 0, 1, 0, 0, 1, 0, 0, 1, 0, 0, 0, 0, 0, 1, 0,\n",
       "       0, 0, 0, 1, 0, 0, 0, 0, 1, 0, 0, 1, 0, 1, 1, 1, 1, 0, 1, 1, 1, 0,\n",
       "       0, 1, 0, 1, 1, 0, 1, 0, 0, 1, 1, 1, 0, 1, 0, 1, 1, 0, 1, 0, 0, 1,\n",
       "       0, 0, 0, 0, 0, 1, 0, 1, 0, 1, 0, 1, 0, 1, 1, 0, 1, 1, 1, 0, 1, 0,\n",
       "       0, 0, 0, 0, 1, 1, 1, 1, 1, 1, 1, 0, 1, 0, 0, 0, 0, 0, 0, 0, 1, 0,\n",
       "       0, 0, 0, 0, 1, 1, 0, 0, 0, 0, 0, 0, 1, 1, 0, 1, 0, 0, 0, 0, 1, 1,\n",
       "       0, 0, 1, 1, 1, 1, 1, 0, 1, 1, 1, 0, 0, 0, 0, 0, 0, 1, 0, 1, 0, 1,\n",
       "       0, 0, 0, 1, 0, 0, 0, 1, 1, 0, 0, 0, 0, 0, 1, 1, 0, 0, 1, 1, 0, 1,\n",
       "       0, 0, 1, 0, 0, 0, 1, 0, 1, 0, 1, 0, 0, 1, 1, 1, 0, 1, 0, 1, 0, 0,\n",
       "       0, 1, 1, 0, 0, 0, 0, 0, 1, 1, 0, 1, 1, 1, 0, 0, 1, 0, 1, 1, 0, 1,\n",
       "       1, 1, 0, 0, 1, 0, 0, 1, 1, 0, 0, 1, 0, 0, 1, 1, 0, 0, 0, 0, 1, 0,\n",
       "       1, 1, 0, 1, 0, 1, 0, 1, 1, 1, 0, 0, 0, 1, 0, 0, 0, 1, 0, 1, 1, 0,\n",
       "       0, 1, 0, 1, 0, 1, 1, 1, 0, 1, 1, 0, 1, 0, 0, 0, 1, 0, 1, 1, 0, 0,\n",
       "       1, 1, 0, 1, 0, 1, 1, 1, 0, 1, 0, 1, 0, 0, 1, 0, 0, 0, 0, 0, 0, 0,\n",
       "       1, 1, 0, 0, 0, 1, 1, 0, 1, 0, 1, 0, 1, 1, 0, 1, 1, 1, 0, 0, 1, 1,\n",
       "       1, 1, 1, 1, 0, 0, 1, 0, 0, 1, 0, 1, 0, 1, 0, 1, 0, 1, 1, 1, 1])"
      ]
     },
     "execution_count": 77,
     "metadata": {},
     "output_type": "execute_result"
    }
   ],
   "source": [
    "prediction"
   ]
  },
  {
   "cell_type": "markdown",
   "id": "adfcdb02",
   "metadata": {},
   "source": [
    "> The distplot would display a histogram of the predicted values from the Perceptron model. Because the model is predicting a binary outcome (0 for the stock going down, and 1 for the stock going up), you would see two bars in the histogram."
   ]
  }
 ],
 "metadata": {
  "kernelspec": {
   "display_name": "Python 3 (ipykernel)",
   "language": "python",
   "name": "python3"
  },
  "language_info": {
   "codemirror_mode": {
    "name": "ipython",
    "version": 3
   },
   "file_extension": ".py",
   "mimetype": "text/x-python",
   "name": "python",
   "nbconvert_exporter": "python",
   "pygments_lexer": "ipython3",
   "version": "3.9.13"
  }
 },
 "nbformat": 4,
 "nbformat_minor": 5
}
