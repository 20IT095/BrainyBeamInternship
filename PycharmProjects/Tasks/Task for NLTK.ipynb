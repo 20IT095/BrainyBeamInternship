{
 "cells": [
  {
   "cell_type": "markdown",
   "id": "cfed3c48",
   "metadata": {},
   "source": [
    "# Task 1: Write a Python program to tokenize a given sentence into individual words."
   ]
  },
  {
   "cell_type": "code",
   "execution_count": 1,
   "id": "05a5efa7",
   "metadata": {},
   "outputs": [],
   "source": [
    "import nltk\n",
    "from nltk.tokenize import word_tokenize"
   ]
  },
  {
   "cell_type": "code",
   "execution_count": 2,
   "id": "c78bbfe2",
   "metadata": {},
   "outputs": [],
   "source": [
    "text=\"Microsoft Rewards is a program designed for loyal Microsoft users who prefer using its services, which are not limited to the operating system only. So, every time you use a Microsoft product (Bing, Edge Browser, Cortana, Store, etc.), it rewards you with Microsoft Rewards points\""
   ]
  },
  {
   "cell_type": "code",
   "execution_count": 3,
   "id": "41e8c367",
   "metadata": {},
   "outputs": [
    {
     "data": {
      "text/plain": [
       "'Microsoft Rewards is a program designed for loyal Microsoft users who prefer using its services, which are not limited to the operating system only. So, every time you use a Microsoft product (Bing, Edge Browser, Cortana, Store, etc.), it rewards you with Microsoft Rewards points'"
      ]
     },
     "execution_count": 3,
     "metadata": {},
     "output_type": "execute_result"
    }
   ],
   "source": [
    "text"
   ]
  },
  {
   "cell_type": "code",
   "execution_count": 4,
   "id": "fa443e53",
   "metadata": {},
   "outputs": [],
   "source": [
    "tokens= word_tokenize(text)"
   ]
  },
  {
   "cell_type": "code",
   "execution_count": 5,
   "id": "eb8fe57d",
   "metadata": {},
   "outputs": [
    {
     "name": "stdout",
     "output_type": "stream",
     "text": [
      "['Microsoft', 'Rewards', 'is', 'a', 'program', 'designed', 'for', 'loyal', 'Microsoft', 'users', 'who', 'prefer', 'using', 'its', 'services', ',', 'which', 'are', 'not', 'limited', 'to', 'the', 'operating', 'system', 'only', '.', 'So', ',', 'every', 'time', 'you', 'use', 'a', 'Microsoft', 'product', '(', 'Bing', ',', 'Edge', 'Browser', ',', 'Cortana', ',', 'Store', ',', 'etc', '.', ')', ',', 'it', 'rewards', 'you', 'with', 'Microsoft', 'Rewards', 'points']\n"
     ]
    }
   ],
   "source": [
    "print(tokens)"
   ]
  },
  {
   "cell_type": "code",
   "execution_count": 6,
   "id": "21697a48",
   "metadata": {},
   "outputs": [
    {
     "data": {
      "text/plain": [
       "['Microsoft',\n",
       " 'Rewards',\n",
       " 'is',\n",
       " 'a',\n",
       " 'program',\n",
       " 'designed',\n",
       " 'for',\n",
       " 'loyal',\n",
       " 'Microsoft',\n",
       " 'users',\n",
       " 'who',\n",
       " 'prefer',\n",
       " 'using',\n",
       " 'its',\n",
       " 'services',\n",
       " ',',\n",
       " 'which',\n",
       " 'are',\n",
       " 'not',\n",
       " 'limited',\n",
       " 'to',\n",
       " 'the',\n",
       " 'operating',\n",
       " 'system',\n",
       " 'only',\n",
       " '.',\n",
       " 'So',\n",
       " ',',\n",
       " 'every',\n",
       " 'time',\n",
       " 'you',\n",
       " 'use',\n",
       " 'a',\n",
       " 'Microsoft',\n",
       " 'product',\n",
       " '(',\n",
       " 'Bing',\n",
       " ',',\n",
       " 'Edge',\n",
       " 'Browser',\n",
       " ',',\n",
       " 'Cortana',\n",
       " ',',\n",
       " 'Store',\n",
       " ',',\n",
       " 'etc',\n",
       " '.',\n",
       " ')',\n",
       " ',',\n",
       " 'it',\n",
       " 'rewards',\n",
       " 'you',\n",
       " 'with',\n",
       " 'Microsoft',\n",
       " 'Rewards',\n",
       " 'points']"
      ]
     },
     "execution_count": 6,
     "metadata": {},
     "output_type": "execute_result"
    }
   ],
   "source": [
    "tokens"
   ]
  },
  {
   "cell_type": "markdown",
   "id": "2aa20c69",
   "metadata": {},
   "source": [
    "# Task 2: Implement a function in Python to calculate the frequency of each word in a given text document."
   ]
  },
  {
   "cell_type": "code",
   "execution_count": 8,
   "id": "983b1c5d",
   "metadata": {},
   "outputs": [],
   "source": [
    "from nltk.probability import FreqDist"
   ]
  },
  {
   "cell_type": "code",
   "execution_count": 9,
   "id": "d7dd3041",
   "metadata": {},
   "outputs": [],
   "source": [
    "f=FreqDist()\n",
    "for i in tokens:\n",
    "    f[i]+=1"
   ]
  },
  {
   "cell_type": "code",
   "execution_count": 10,
   "id": "1918d977",
   "metadata": {},
   "outputs": [
    {
     "data": {
      "text/plain": [
       "FreqDist({',': 7, 'Microsoft': 4, 'Rewards': 2, 'a': 2, '.': 2, 'you': 2, 'is': 1, 'program': 1, 'designed': 1, 'for': 1, ...})"
      ]
     },
     "execution_count": 10,
     "metadata": {},
     "output_type": "execute_result"
    }
   ],
   "source": [
    "f"
   ]
  },
  {
   "cell_type": "markdown",
   "id": "b10ef1e9",
   "metadata": {},
   "source": [
    "# Task 3: Create a Python function to perform stemming on a given word using a popular stemming algorithm, such as the Porter stemming algorithm."
   ]
  },
  {
   "cell_type": "code",
   "execution_count": 11,
   "id": "b9811532",
   "metadata": {},
   "outputs": [],
   "source": [
    "from nltk.stem import PorterStemmer"
   ]
  },
  {
   "cell_type": "code",
   "execution_count": 16,
   "id": "92f02ffd",
   "metadata": {},
   "outputs": [],
   "source": [
    "c=f.most_common(50)"
   ]
  },
  {
   "cell_type": "code",
   "execution_count": 17,
   "id": "59e87071",
   "metadata": {},
   "outputs": [
    {
     "name": "stdout",
     "output_type": "stream",
     "text": [
      "Microsoft==microsoft\n",
      "Rewards==reward\n",
      "is==is\n",
      "a==a\n",
      "program==program\n",
      "designed==design\n",
      "for==for\n",
      "loyal==loyal\n",
      "Microsoft==microsoft\n",
      "users==user\n",
      "who==who\n",
      "prefer==prefer\n",
      "using==use\n",
      "its==it\n",
      "services==servic\n",
      ",==,\n",
      "which==which\n",
      "are==are\n",
      "not==not\n",
      "limited==limit\n",
      "to==to\n",
      "the==the\n",
      "operating==oper\n",
      "system==system\n",
      "only==onli\n",
      ".==.\n",
      "So==so\n",
      ",==,\n",
      "every==everi\n",
      "time==time\n",
      "you==you\n",
      "use==use\n",
      "a==a\n",
      "Microsoft==microsoft\n",
      "product==product\n",
      "(==(\n",
      "Bing==bing\n",
      ",==,\n",
      "Edge==edg\n",
      "Browser==browser\n",
      ",==,\n",
      "Cortana==cortana\n",
      ",==,\n",
      "Store==store\n",
      ",==,\n",
      "etc==etc\n",
      ".==.\n",
      ")==)\n",
      ",==,\n",
      "it==it\n",
      "rewards==reward\n",
      "you==you\n",
      "with==with\n",
      "Microsoft==microsoft\n",
      "Rewards==reward\n",
      "points==point\n"
     ]
    }
   ],
   "source": [
    "p = PorterStemmer()\n",
    "for i in tokens:\n",
    "    print(i+\"==\"+p.stem(i))"
   ]
  },
  {
   "cell_type": "code",
   "execution_count": 18,
   "id": "0ec3cc8b",
   "metadata": {},
   "outputs": [
    {
     "name": "stdout",
     "output_type": "stream",
     "text": [
      "[(',', 7), ('Microsoft', 4), ('Rewards', 2), ('a', 2), ('.', 2), ('you', 2), ('is', 1), ('program', 1), ('designed', 1), ('for', 1), ('loyal', 1), ('users', 1), ('who', 1), ('prefer', 1), ('using', 1), ('its', 1), ('services', 1), ('which', 1), ('are', 1), ('not', 1), ('limited', 1), ('to', 1), ('the', 1), ('operating', 1), ('system', 1), ('only', 1), ('So', 1), ('every', 1), ('time', 1), ('use', 1), ('product', 1), ('(', 1), ('Bing', 1), ('Edge', 1), ('Browser', 1), ('Cortana', 1), ('Store', 1), ('etc', 1), (')', 1), ('it', 1), ('rewards', 1), ('with', 1), ('points', 1)]\n"
     ]
    }
   ],
   "source": [
    "print(c)"
   ]
  },
  {
   "cell_type": "markdown",
   "id": "28dabd4b",
   "metadata": {},
   "source": [
    "# Task 4: Write a Python program to remove stopwords from a given sentence using a predefined list of stopwords."
   ]
  },
  {
   "cell_type": "code",
   "execution_count": 13,
   "id": "0d8ae1c6",
   "metadata": {},
   "outputs": [],
   "source": [
    "from nltk.corpus import stopwords"
   ]
  },
  {
   "cell_type": "code",
   "execution_count": 14,
   "id": "7c744325",
   "metadata": {},
   "outputs": [
    {
     "name": "stdout",
     "output_type": "stream",
     "text": [
      "{\"couldn't\", 'not', \"you'll\", 'same', 'at', 'on', 'themselves', 'as', \"isn't\", 'mustn', 'those', 'why', 'than', 'didn', 'against', 'is', 'these', 'this', 'hasn', 'o', 'yours', 'before', \"doesn't\", 'any', \"you'd\", 'under', \"it's\", 'just', 'for', 'through', 'below', \"hasn't\", 'what', 'above', 'very', 't', 'his', 'too', 'out', \"wasn't\", 'yourself', 'a', 'or', 'which', 'theirs', \"wouldn't\", 'will', \"shouldn't\", 'herself', 'my', 'be', 's', 'down', 'wouldn', 'them', 're', 'here', 'i', 'whom', 'am', 'yourselves', 'has', 'there', 'shouldn', 'we', 'was', 'aren', 'into', 'that', 'some', 'he', \"hadn't\", 'most', 'if', 'such', 'because', 'needn', 'an', 'until', 'doing', 'her', 'over', 'mightn', \"should've\", 'having', 'wasn', 'can', \"didn't\", 'off', 'did', \"shan't\", 'after', 'ourselves', 'but', 'how', 'of', \"don't\", \"haven't\", \"mightn't\", 'the', 'further', 'few', 'by', 'then', 'up', 'should', 've', 'while', 'to', 'won', 'during', 'hers', 'where', 'myself', 'she', 'were', 'about', \"won't\", \"you're\", 'itself', 'its', 'had', 'isn', 'doesn', 'each', 'their', 'do', \"she's\", 'ours', \"aren't\", 'own', 'couldn', 'it', 'me', \"you've\", 'other', 'your', \"needn't\", 'y', 'once', \"mustn't\", \"weren't\", 'with', 'ain', 'shan', 'being', 'more', 'so', 'nor', 'now', 'from', 'again', 'both', 'himself', 'haven', 'weren', 'they', 'who', 'in', 'm', 'between', \"that'll\", 'd', 'don', 'been', 'are', 'll', 'you', 'him', 'no', 'when', 'only', 'ma', 'have', 'does', 'all', 'hadn', 'our', 'and'}\n"
     ]
    }
   ],
   "source": [
    "StopWord = set(stopwords.words('english'))\n",
    "print(StopWord)"
   ]
  },
  {
   "cell_type": "code",
   "execution_count": 15,
   "id": "6301f7d2",
   "metadata": {},
   "outputs": [
    {
     "name": "stdout",
     "output_type": "stream",
     "text": [
      "M\n",
      "c\n",
      "r\n",
      "f\n",
      " \n",
      "R\n",
      "e\n",
      "w\n",
      "r\n",
      " \n",
      " \n",
      " \n",
      "p\n",
      "r\n",
      "g\n",
      "r\n",
      " \n",
      "e\n",
      "g\n",
      "n\n",
      "e\n",
      " \n",
      "f\n",
      "r\n",
      " \n",
      "l\n",
      "l\n",
      " \n",
      "M\n",
      "c\n",
      "r\n",
      "f\n",
      " \n",
      "u\n",
      "e\n",
      "r\n",
      " \n",
      "w\n",
      "h\n",
      " \n",
      "p\n",
      "r\n",
      "e\n",
      "f\n",
      "e\n",
      "r\n",
      " \n",
      "u\n",
      "n\n",
      "g\n",
      " \n",
      " \n",
      "e\n",
      "r\n",
      "v\n",
      "c\n",
      "e\n",
      ",\n",
      " \n",
      "w\n",
      "h\n",
      "c\n",
      "h\n",
      " \n",
      "r\n",
      "e\n",
      " \n",
      "n\n",
      " \n",
      "l\n",
      "e\n",
      " \n",
      " \n",
      "h\n",
      "e\n",
      " \n",
      "p\n",
      "e\n",
      "r\n",
      "n\n",
      "g\n",
      " \n",
      "e\n",
      " \n",
      "n\n",
      "l\n",
      ".\n",
      " \n",
      "S\n",
      ",\n",
      " \n",
      "e\n",
      "v\n",
      "e\n",
      "r\n",
      " \n",
      "e\n",
      " \n",
      "u\n",
      " \n",
      "u\n",
      "e\n",
      " \n",
      " \n",
      "M\n",
      "c\n",
      "r\n",
      "f\n",
      " \n",
      "p\n",
      "r\n",
      "u\n",
      "c\n",
      " \n",
      "(\n",
      "B\n",
      "n\n",
      "g\n",
      ",\n",
      " \n",
      "E\n",
      "g\n",
      "e\n",
      " \n",
      "B\n",
      "r\n",
      "w\n",
      "e\n",
      "r\n",
      ",\n",
      " \n",
      "C\n",
      "r\n",
      "n\n",
      ",\n",
      " \n",
      "S\n",
      "r\n",
      "e\n",
      ",\n",
      " \n",
      "e\n",
      "c\n",
      ".\n",
      ")\n",
      ",\n",
      " \n",
      " \n",
      "r\n",
      "e\n",
      "w\n",
      "r\n",
      " \n",
      "u\n",
      " \n",
      "w\n",
      "h\n",
      " \n",
      "M\n",
      "c\n",
      "r\n",
      "f\n",
      " \n",
      "R\n",
      "e\n",
      "w\n",
      "r\n",
      " \n",
      "p\n",
      "n\n"
     ]
    }
   ],
   "source": [
    "for word in text:\n",
    "    if word not in StopWord:\n",
    "        print(word)"
   ]
  }
 ],
 "metadata": {
  "kernelspec": {
   "display_name": "Python 3 (ipykernel)",
   "language": "python",
   "name": "python3"
  },
  "language_info": {
   "codemirror_mode": {
    "name": "ipython",
    "version": 3
   },
   "file_extension": ".py",
   "mimetype": "text/x-python",
   "name": "python",
   "nbconvert_exporter": "python",
   "pygments_lexer": "ipython3",
   "version": "3.9.13"
  }
 },
 "nbformat": 4,
 "nbformat_minor": 5
}
