{
 "cells": [
  {
   "cell_type": "markdown",
   "id": "7e658cc7",
   "metadata": {},
   "source": [
    "# Task 1 - Brush up all basics python concepts. "
   ]
  },
  {
   "cell_type": "markdown",
   "id": "da6efbfd",
   "metadata": {},
   "source": [
    "## basics python functions and libraries\n",
    "### functions \n",
    "#### Creating Arrays:\n",
    "\n",
    "numpy.array: Create an array from a Python list or tuple.\n",
    "\n",
    "numpy.zeros: Create an array filled with zeros.\n",
    "\n",
    "numpy.ones: Create an array filled with ones.\n",
    "\n",
    "numpy.arange: Create an array with values in a given range.\n",
    "\n",
    "numpy.random: Generate arrays with random numbers.\n",
    "\n",
    "#### Array Attributes:\n",
    "\n",
    "ndarray.shape: Returns the dimensions of the array.\n",
    "\n",
    "ndarray.ndim: Returns the number of array dimensions.\n",
    "\n",
    "ndarray.size: Returns the total number of elements in the array.\n",
    "\n",
    "ndarray.dtype: Returns the data type of the elements in the array.\n",
    "\n",
    "#### Array Operations:\n",
    "\n",
    "ndarray.reshape: Reshape an array into a new shape.\n",
    "\n",
    "ndarray.concatenate: Concatenate arrays along a specified axis.\n",
    "\n",
    "ndarray.transpose: Permute the dimensions of an array.\n",
    "\n",
    "ndarray.sort: Sort the elements of an array.\n",
    "\n",
    "#### Mathematical Functions:\n",
    "\n",
    "numpy.add: Element-wise addition of arrays.\n",
    "\n",
    "numpy.subtract: Element-wise subtraction of arrays.\n",
    "\n",
    "numpy.multiply: Element-wise multiplication of arrays.\n",
    "\n",
    "numpy.divide: Element-wise division of arrays.\n",
    "\n",
    "numpy.dot: Matrix multiplication of two arrays.\n",
    "\n",
    "#### Aggregation Functions:\n",
    "\n",
    "numpy.sum: Compute the sum of array elements.\n",
    "\n",
    "numpy.mean: Compute the arithmetic mean along a specified axis.\n",
    "\n",
    "numpy.min: Find the minimum value in an array.\n",
    "\n",
    "numpy.max: Find the maximum value in an array.\n",
    "\n",
    "numpy.std: Compute the standard deviation along a specified axis.\n",
    "\n",
    "### libraries\n",
    "\n",
    "### Matplotlib\n",
    "The plotting of numerical data is the responsibility of this library. It's for this reason that it's used in analysis of data. It's an open-source library that plots high-definition figures such as pie charts, scatterplots, boxplots, and graphs, among other things.\n",
    "\n",
    "### NumPy\n",
    "NumPy is one of the most widely used open-source Python packages, focusing on mathematical and scientific computation. It has built-in mathematical functions for convenient computation and facilitates large matrices and multidimensional data. It can be used for various things, including linear algebra, as an N-dimensional container for all types of data. The NumPy Array Python object defines an N-dimensional array with rows and columns. A long with this, it can be used as a random number generator.\n",
    "\n",
    "In Python, NumPy is recommended over lists because it uses less memory, is faster, and is more convenient.\n",
    "\n",
    "Images, sound waves, and other binary raw streams can be represented as a multidimensional array of real values using the NumPy interface for visualization. Full-stack developers must be familiar with Numpy to use this machine learning library.\n",
    "\n",
    "### Pandas\n",
    "Pandas is an open source library licenced under the Berkeley Software Distribution (BSD). In the domain of data science, this well-known library is widely used. They're mostly used for analysis, manipulation, and cleaning of data, among other things. Pandas allows us to perform simple data modelling and analysis without having to swap to another language like R.\n",
    "\n",
    "### Seaborn\n",
    "Visualization of statistical models is possible with this package. The library is largely based on Matplotlib and enables the formation of statistical graphics via:\n",
    "\n",
    "Variable comparison via an API based on datasets\n",
    "\n",
    "Create complex visualisations with ease, including multi-plot grids.\n",
    "\n",
    "Univariate and bivariate visualisations are used to compare data subsets.\n",
    "\n",
    "Patterns can be displayed in a variety of colour palettes.\n",
    "\n",
    "Linear regression estimation and plotting are done automatically.\n",
    "\n",
    "#### A tuple is a Python data type used to store collections of data, similar to a list."
   ]
  },
  {
   "cell_type": "markdown",
   "id": "dad56464",
   "metadata": {},
   "source": [
    "# Task 2- Reshape a 1D NumPy array of length 12 into a 2D array of shape (3, 4)."
   ]
  },
  {
   "cell_type": "code",
   "execution_count": 1,
   "id": "2f942bcc",
   "metadata": {},
   "outputs": [],
   "source": [
    "import numpy as np"
   ]
  },
  {
   "cell_type": "code",
   "execution_count": 2,
   "id": "de6b67b7",
   "metadata": {},
   "outputs": [],
   "source": [
    "#creating an array of length 12\n",
    "# generates random integers from a given range \n",
    "d1 = np.random.randint(0, 20, size=12)"
   ]
  },
  {
   "cell_type": "code",
   "execution_count": 3,
   "id": "b2eda0d8",
   "metadata": {},
   "outputs": [
    {
     "name": "stdout",
     "output_type": "stream",
     "text": [
      "[ 6  4  4  8 11 11  4  1  6  7 18  9]\n"
     ]
    }
   ],
   "source": [
    "print(d1)"
   ]
  },
  {
   "cell_type": "code",
   "execution_count": 4,
   "id": "5f44fae6",
   "metadata": {},
   "outputs": [],
   "source": [
    "#reshaping 1D array into rows and colums \n",
    "D2=d1.reshape(3,4)"
   ]
  },
  {
   "cell_type": "code",
   "execution_count": 5,
   "id": "3e729609",
   "metadata": {},
   "outputs": [
    {
     "name": "stdout",
     "output_type": "stream",
     "text": [
      "[[ 6  4  4  8]\n",
      " [11 11  4  1]\n",
      " [ 6  7 18  9]]\n"
     ]
    }
   ],
   "source": [
    "print(D2)"
   ]
  },
  {
   "cell_type": "markdown",
   "id": "e4860046",
   "metadata": {},
   "source": [
    "# Task 3-Find the minimum and maximum values in a NumPy array"
   ]
  },
  {
   "cell_type": "code",
   "execution_count": 6,
   "id": "f2f666f9",
   "metadata": {},
   "outputs": [
    {
     "data": {
      "text/plain": [
       "1"
      ]
     },
     "execution_count": 6,
     "metadata": {},
     "output_type": "execute_result"
    }
   ],
   "source": [
    "#finding minimum value from the array \n",
    "D2.min()"
   ]
  },
  {
   "cell_type": "code",
   "execution_count": 7,
   "id": "d221d68a",
   "metadata": {},
   "outputs": [
    {
     "data": {
      "text/plain": [
       "18"
      ]
     },
     "execution_count": 7,
     "metadata": {},
     "output_type": "execute_result"
    }
   ],
   "source": [
    "# finding maximum value from the array \n",
    "D2.max()"
   ]
  },
  {
   "cell_type": "markdown",
   "id": "206ce0c3",
   "metadata": {},
   "source": [
    "# Task 4- Calculate the mean, median, and standard deviation of a given NumPy array."
   ]
  },
  {
   "cell_type": "code",
   "execution_count": 8,
   "id": "26809977",
   "metadata": {},
   "outputs": [
    {
     "name": "stdout",
     "output_type": "stream",
     "text": [
      "7.416666666666667\n"
     ]
    }
   ],
   "source": [
    "# calculating the mean of array\n",
    "R = np.mean(D2)\n",
    "print(R)"
   ]
  },
  {
   "cell_type": "code",
   "execution_count": 9,
   "id": "faefe6f0",
   "metadata": {},
   "outputs": [
    {
     "name": "stdout",
     "output_type": "stream",
     "text": [
      "6.5\n"
     ]
    }
   ],
   "source": [
    "# calculating the median of array\n",
    "R2 = np.median(D2)\n",
    "print(R2)"
   ]
  },
  {
   "cell_type": "code",
   "execution_count": 10,
   "id": "5e3e2218",
   "metadata": {},
   "outputs": [
    {
     "name": "stdout",
     "output_type": "stream",
     "text": [
      "4.2906552206186666\n"
     ]
    }
   ],
   "source": [
    "R3 = np.std(D2)\n",
    "print(R3)"
   ]
  },
  {
   "cell_type": "markdown",
   "id": "37be308f",
   "metadata": {},
   "source": [
    "# Task 5- Extract all the odd numbers from a given NumPy array."
   ]
  },
  {
   "cell_type": "code",
   "execution_count": 11,
   "id": "b8b22f61",
   "metadata": {},
   "outputs": [],
   "source": [
    "pt= d1[d1 % 2 != 0]"
   ]
  },
  {
   "cell_type": "code",
   "execution_count": 12,
   "id": "7d898a3f",
   "metadata": {},
   "outputs": [
    {
     "name": "stdout",
     "output_type": "stream",
     "text": [
      "[11 11  1  7  9]\n"
     ]
    }
   ],
   "source": [
    "print(pt)"
   ]
  }
 ],
 "metadata": {
  "kernelspec": {
   "display_name": "Python 3 (ipykernel)",
   "language": "python",
   "name": "python3"
  },
  "language_info": {
   "codemirror_mode": {
    "name": "ipython",
    "version": 3
   },
   "file_extension": ".py",
   "mimetype": "text/x-python",
   "name": "python",
   "nbconvert_exporter": "python",
   "pygments_lexer": "ipython3",
   "version": "3.9.13"
  }
 },
 "nbformat": 4,
 "nbformat_minor": 5
}
