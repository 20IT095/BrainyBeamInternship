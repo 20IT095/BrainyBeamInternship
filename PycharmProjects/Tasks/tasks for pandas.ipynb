{
 "cells": [
  {
   "cell_type": "markdown",
   "id": "184b4d13",
   "metadata": {},
   "source": [
    "#  Task 1-Create a dataset with 10 rows and 4 columns, where one of the columns must be a salary column."
   ]
  },
  {
   "cell_type": "code",
   "execution_count": 1,
   "id": "26622c9c",
   "metadata": {},
   "outputs": [],
   "source": [
    "import numpy as np\n",
    "import pandas as pd"
   ]
  },
  {
   "cell_type": "code",
   "execution_count": 2,
   "id": "ea439e8b",
   "metadata": {},
   "outputs": [],
   "source": [
    "df = pd.read_csv('employee_details.csv')"
   ]
  },
  {
   "cell_type": "code",
   "execution_count": 3,
   "id": "08a1c4fd",
   "metadata": {},
   "outputs": [
    {
     "data": {
      "text/html": [
       "<div>\n",
       "<style scoped>\n",
       "    .dataframe tbody tr th:only-of-type {\n",
       "        vertical-align: middle;\n",
       "    }\n",
       "\n",
       "    .dataframe tbody tr th {\n",
       "        vertical-align: top;\n",
       "    }\n",
       "\n",
       "    .dataframe thead th {\n",
       "        text-align: right;\n",
       "    }\n",
       "</style>\n",
       "<table border=\"1\" class=\"dataframe\">\n",
       "  <thead>\n",
       "    <tr style=\"text-align: right;\">\n",
       "      <th></th>\n",
       "      <th>employeeId</th>\n",
       "      <th>name</th>\n",
       "      <th>position</th>\n",
       "      <th>salary</th>\n",
       "    </tr>\n",
       "  </thead>\n",
       "  <tbody>\n",
       "    <tr>\n",
       "      <th>0</th>\n",
       "      <td>e1</td>\n",
       "      <td>John Doe</td>\n",
       "      <td>Manager</td>\n",
       "      <td>$80,000</td>\n",
       "    </tr>\n",
       "    <tr>\n",
       "      <th>1</th>\n",
       "      <td>e2</td>\n",
       "      <td>Jane Smith</td>\n",
       "      <td>Analyst</td>\n",
       "      <td>$60,000</td>\n",
       "    </tr>\n",
       "    <tr>\n",
       "      <th>2</th>\n",
       "      <td>e3</td>\n",
       "      <td>Mike Johnson</td>\n",
       "      <td>Sales Rep</td>\n",
       "      <td>$50,000</td>\n",
       "    </tr>\n",
       "    <tr>\n",
       "      <th>3</th>\n",
       "      <td>e4</td>\n",
       "      <td>Emily Davis</td>\n",
       "      <td>HR Specialist</td>\n",
       "      <td>$65,000</td>\n",
       "    </tr>\n",
       "    <tr>\n",
       "      <th>4</th>\n",
       "      <td>e5</td>\n",
       "      <td>James Brown</td>\n",
       "      <td>Developer</td>\n",
       "      <td>$75,000</td>\n",
       "    </tr>\n",
       "    <tr>\n",
       "      <th>5</th>\n",
       "      <td>e6</td>\n",
       "      <td>Patricia Jones</td>\n",
       "      <td>Marketing Exec</td>\n",
       "      <td>$70,000</td>\n",
       "    </tr>\n",
       "    <tr>\n",
       "      <th>6</th>\n",
       "      <td>e7</td>\n",
       "      <td>Robert Miller</td>\n",
       "      <td>Accountant</td>\n",
       "      <td>$70,000</td>\n",
       "    </tr>\n",
       "    <tr>\n",
       "      <th>7</th>\n",
       "      <td>e8</td>\n",
       "      <td>Mary Taylor</td>\n",
       "      <td>Office Assistant</td>\n",
       "      <td>$40,000</td>\n",
       "    </tr>\n",
       "    <tr>\n",
       "      <th>8</th>\n",
       "      <td>e9</td>\n",
       "      <td>Richard White</td>\n",
       "      <td>devops engineer</td>\n",
       "      <td>$95,000</td>\n",
       "    </tr>\n",
       "    <tr>\n",
       "      <th>9</th>\n",
       "      <td>e10</td>\n",
       "      <td>Susan Harris</td>\n",
       "      <td>Sales Rep</td>\n",
       "      <td>$50,000</td>\n",
       "    </tr>\n",
       "  </tbody>\n",
       "</table>\n",
       "</div>"
      ],
      "text/plain": [
       "  employeeId            name          position    salary\n",
       "0         e1        John Doe           Manager  $80,000 \n",
       "1         e2      Jane Smith           Analyst  $60,000 \n",
       "2         e3    Mike Johnson         Sales Rep  $50,000 \n",
       "3         e4     Emily Davis     HR Specialist  $65,000 \n",
       "4         e5     James Brown         Developer  $75,000 \n",
       "5         e6  Patricia Jones    Marketing Exec  $70,000 \n",
       "6         e7   Robert Miller        Accountant  $70,000 \n",
       "7         e8     Mary Taylor  Office Assistant  $40,000 \n",
       "8         e9   Richard White   devops engineer  $95,000 \n",
       "9        e10    Susan Harris         Sales Rep  $50,000 "
      ]
     },
     "execution_count": 3,
     "metadata": {},
     "output_type": "execute_result"
    }
   ],
   "source": [
    "df"
   ]
  },
  {
   "cell_type": "markdown",
   "id": "ef6b8e1e",
   "metadata": {},
   "source": [
    "# Task 2- Calculate the total revenue generated"
   ]
  },
  {
   "cell_type": "code",
   "execution_count": 4,
   "id": "2ededb03",
   "metadata": {},
   "outputs": [],
   "source": [
    "# creating dataframe of the dataset \n",
    "df = pd.DataFrame({\n",
    "    \"employeeId\": [\"e1\",\"e2\",\"e3\",\"e4\",\"e5\",\"e6\",\"e7\",\"e8\",\"e9\",\"e10\"],\n",
    "    \"name\": [\"John Doe\", \"Jane Smith\", \"Mike Johnson\", \"Emily Davis\", \"James Brown\", \"Patricia Jones\", \"Robert Miller\", \"Mary Taylor\", \"Richard White\", \"Susan Harris\"],\n",
    "    \"position\":[\"Manager\", \"Analyst\", \"Sales Rep\", \"HR Specialist\", \"Developer\", \"Marketing Exec\", \"Accountant\", \"Office Assistant\", \"devops engineer\", \"Sales Rep\"],\n",
    "    \"salary\": [80000, 60000, 50000, 65000, 75000, 70000, 70000, 40000, 95000, 50000]\n",
    "})"
   ]
  },
  {
   "cell_type": "code",
   "execution_count": 5,
   "id": "c31a3122",
   "metadata": {},
   "outputs": [
    {
     "name": "stdout",
     "output_type": "stream",
     "text": [
      "655000\n"
     ]
    }
   ],
   "source": [
    "# To print the \"Salary\" column / calculating the total revenue generated of the employees salaries\n",
    "print(np.sum(df['salary']))"
   ]
  },
  {
   "cell_type": "markdown",
   "id": "2159b058",
   "metadata": {},
   "source": [
    "# Task 3- Find the average salary for every employee "
   ]
  },
  {
   "cell_type": "code",
   "execution_count": 6,
   "id": "aef4b255",
   "metadata": {},
   "outputs": [],
   "source": [
    "pt=np.sum(df['salary'])"
   ]
  },
  {
   "cell_type": "code",
   "execution_count": 7,
   "id": "0316c3df",
   "metadata": {},
   "outputs": [],
   "source": [
    "average_salary=pt//10 # '//' will remove the digits after demcial point and it will print only the interger"
   ]
  },
  {
   "cell_type": "code",
   "execution_count": 8,
   "id": "cc13844b",
   "metadata": {},
   "outputs": [
    {
     "name": "stdout",
     "output_type": "stream",
     "text": [
      "65500\n"
     ]
    }
   ],
   "source": [
    "print(average_salary)"
   ]
  },
  {
   "cell_type": "markdown",
   "id": "1111c7af",
   "metadata": {},
   "source": [
    "# Task 4 -Check the data types of each column in the DataFrame."
   ]
  },
  {
   "cell_type": "code",
   "execution_count": 9,
   "id": "cef3569a",
   "metadata": {},
   "outputs": [
    {
     "name": "stdout",
     "output_type": "stream",
     "text": [
      "employeeId    object\n",
      "name          object\n",
      "position      object\n",
      "salary         int64\n",
      "dtype: object\n"
     ]
    }
   ],
   "source": [
    "print(df.dtypes)"
   ]
  },
  {
   "cell_type": "markdown",
   "id": "231c1016",
   "metadata": {},
   "source": [
    "int64 indicates that the \"Salary\" columns contain integer data.\n",
    "\n",
    "object typically indicates that the \"Employee ID\" ,\"Name\" and \"Position\" columns contain string (text) data in pandas."
   ]
  }
 ],
 "metadata": {
  "kernelspec": {
   "display_name": "Python 3 (ipykernel)",
   "language": "python",
   "name": "python3"
  },
  "language_info": {
   "codemirror_mode": {
    "name": "ipython",
    "version": 3
   },
   "file_extension": ".py",
   "mimetype": "text/x-python",
   "name": "python",
   "nbconvert_exporter": "python",
   "pygments_lexer": "ipython3",
   "version": "3.9.13"
  }
 },
 "nbformat": 4,
 "nbformat_minor": 5
}
