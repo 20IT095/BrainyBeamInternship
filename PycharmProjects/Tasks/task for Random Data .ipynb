{
 "cells": [
  {
   "cell_type": "markdown",
   "id": "93e13b48",
   "metadata": {},
   "source": [
    "# Task 1: create data using random library"
   ]
  },
  {
   "cell_type": "code",
   "execution_count": 1,
   "id": "5666dbe7",
   "metadata": {},
   "outputs": [],
   "source": [
    "import random"
   ]
  },
  {
   "cell_type": "code",
   "execution_count": 2,
   "id": "d79711b7",
   "metadata": {},
   "outputs": [],
   "source": [
    "# Generate random names\n",
    "names = ['John', 'Jane', 'Alice', 'Bob', 'Emma', 'Michael']\n",
    "name_data = [random.choice(names) for _ in range(20)]"
   ]
  },
  {
   "cell_type": "code",
   "execution_count": 3,
   "id": "7e8b52ac",
   "metadata": {},
   "outputs": [],
   "source": [
    "# Generate random ages between 12 and 60\n",
    "age_data = [random.randint(12, 60) for _ in range(20)]"
   ]
  },
  {
   "cell_type": "code",
   "execution_count": 4,
   "id": "edc2a97c",
   "metadata": {},
   "outputs": [],
   "source": [
    "# Generate random genders (male or female)\n",
    "gender_data = [random.choice(['Male', 'Female']) for _ in range(20)]"
   ]
  },
  {
   "cell_type": "code",
   "execution_count": 5,
   "id": "2a5e284f",
   "metadata": {},
   "outputs": [],
   "source": [
    "data = []\n",
    "for i in range(20):\n",
    "    record = {'Name': name_data[i], 'Age': age_data[i], 'Gender': gender_data[i]}\n",
    "    data.append(record)"
   ]
  },
  {
   "cell_type": "code",
   "execution_count": 6,
   "id": "30baed7d",
   "metadata": {},
   "outputs": [
    {
     "name": "stdout",
     "output_type": "stream",
     "text": [
      "{'Name': 'Emma', 'Age': 49, 'Gender': 'Female'}\n",
      "{'Name': 'Jane', 'Age': 14, 'Gender': 'Female'}\n",
      "{'Name': 'John', 'Age': 55, 'Gender': 'Female'}\n",
      "{'Name': 'John', 'Age': 18, 'Gender': 'Female'}\n",
      "{'Name': 'Michael', 'Age': 32, 'Gender': 'Female'}\n",
      "{'Name': 'Bob', 'Age': 34, 'Gender': 'Male'}\n",
      "{'Name': 'Alice', 'Age': 57, 'Gender': 'Male'}\n",
      "{'Name': 'John', 'Age': 12, 'Gender': 'Male'}\n",
      "{'Name': 'Michael', 'Age': 28, 'Gender': 'Female'}\n",
      "{'Name': 'Emma', 'Age': 15, 'Gender': 'Female'}\n",
      "{'Name': 'John', 'Age': 37, 'Gender': 'Female'}\n",
      "{'Name': 'Emma', 'Age': 42, 'Gender': 'Female'}\n",
      "{'Name': 'John', 'Age': 48, 'Gender': 'Male'}\n",
      "{'Name': 'Michael', 'Age': 25, 'Gender': 'Female'}\n",
      "{'Name': 'John', 'Age': 15, 'Gender': 'Female'}\n",
      "{'Name': 'Emma', 'Age': 32, 'Gender': 'Male'}\n",
      "{'Name': 'Jane', 'Age': 58, 'Gender': 'Male'}\n",
      "{'Name': 'Bob', 'Age': 56, 'Gender': 'Female'}\n",
      "{'Name': 'Emma', 'Age': 15, 'Gender': 'Male'}\n",
      "{'Name': 'Bob', 'Age': 29, 'Gender': 'Female'}\n"
     ]
    }
   ],
   "source": [
    "# Print the generated data\n",
    "for record in data:\n",
    "    print(record)"
   ]
  },
  {
   "cell_type": "markdown",
   "id": "ea45b1c4",
   "metadata": {},
   "source": [
    "# Task 2: Find length of Age column"
   ]
  },
  {
   "cell_type": "code",
   "execution_count": 7,
   "id": "817422d2",
   "metadata": {},
   "outputs": [],
   "source": [
    "# Count the length of the Age column\n",
    "age_column_length = len(age_data)"
   ]
  },
  {
   "cell_type": "code",
   "execution_count": 8,
   "id": "f882457e",
   "metadata": {},
   "outputs": [
    {
     "name": "stdout",
     "output_type": "stream",
     "text": [
      "Length of Age column: 20\n"
     ]
    }
   ],
   "source": [
    "# Print the length of the Age column\n",
    "print(\"Length of Age column:\", age_column_length)"
   ]
  },
  {
   "cell_type": "markdown",
   "id": "5b4f7b7f",
   "metadata": {},
   "source": [
    "# Task 3: Apply all task of one-hot encoder , label encoder , normalization, standard scaler using  column_transformer in different dataset"
   ]
  },
  {
   "cell_type": "code",
   "execution_count": 9,
   "id": "2a74f10f",
   "metadata": {},
   "outputs": [],
   "source": [
    "import pandas as pd\n",
    "from sklearn.compose import ColumnTransformer\n",
    "from sklearn.preprocessing import OneHotEncoder, LabelEncoder, StandardScaler, MinMaxScaler"
   ]
  },
  {
   "cell_type": "code",
   "execution_count": 10,
   "id": "5b61c15d",
   "metadata": {},
   "outputs": [],
   "source": [
    "# Creating a sample dataset\n",
    "dataset1 = pd.DataFrame({\n",
    "    'category': ['A', 'B', 'C', 'A', 'B', 'C'],\n",
    "    'value': [25, 30, 35, 40, 45, 50],\n",
    "})"
   ]
  },
  {
   "cell_type": "code",
   "execution_count": 11,
   "id": "2eb06f2e",
   "metadata": {},
   "outputs": [],
   "source": [
    "# Define the transformations\n",
    "ct = ColumnTransformer(\n",
    "    [\n",
    "        (\"one_hot_encoder\", OneHotEncoder(), ['category']),\n",
    "        (\"standard_scaler\", StandardScaler(), ['value'])\n",
    "    ])"
   ]
  },
  {
   "cell_type": "code",
   "execution_count": 12,
   "id": "d86a5264",
   "metadata": {
    "scrolled": true
   },
   "outputs": [],
   "source": [
    "# Apply transformations on dataset1\n",
    "transformed_data1 = ct.fit_transform(dataset1)"
   ]
  },
  {
   "cell_type": "code",
   "execution_count": 13,
   "id": "808d952e",
   "metadata": {},
   "outputs": [],
   "source": [
    "ct1 = ColumnTransformer(\n",
    "    [\n",
    "        (\"label_encoder\", LabelEncoder(), ['category']),\n",
    "        (\"min_max_scaler\", MinMaxScaler(), ['value'])\n",
    "    ])"
   ]
  },
  {
   "cell_type": "code",
   "execution_count": 14,
   "id": "91c3080f",
   "metadata": {},
   "outputs": [],
   "source": [
    "# Apply transformations on dataset\n",
    "transformed_data2 = ct.fit_transform(dataset1)"
   ]
  },
  {
   "cell_type": "code",
   "execution_count": 15,
   "id": "c7f64228",
   "metadata": {},
   "outputs": [
    {
     "name": "stdout",
     "output_type": "stream",
     "text": [
      "[[ 1.          0.          0.         -1.46385011]\n",
      " [ 0.          1.          0.         -0.87831007]\n",
      " [ 0.          0.          1.         -0.29277002]\n",
      " [ 1.          0.          0.          0.29277002]\n",
      " [ 0.          1.          0.          0.87831007]\n",
      " [ 0.          0.          1.          1.46385011]]\n"
     ]
    }
   ],
   "source": [
    "# Print the transformed data\n",
    "print(transformed_data1)"
   ]
  },
  {
   "cell_type": "code",
   "execution_count": 16,
   "id": "fa1e8b80",
   "metadata": {},
   "outputs": [
    {
     "name": "stdout",
     "output_type": "stream",
     "text": [
      "[[ 1.          0.          0.         -1.46385011]\n",
      " [ 0.          1.          0.         -0.87831007]\n",
      " [ 0.          0.          1.         -0.29277002]\n",
      " [ 1.          0.          0.          0.29277002]\n",
      " [ 0.          1.          0.          0.87831007]\n",
      " [ 0.          0.          1.          1.46385011]]\n"
     ]
    }
   ],
   "source": [
    "# Print the transformed data\n",
    "print(transformed_data2)"
   ]
  },
  {
   "cell_type": "markdown",
   "id": "6de14cd2",
   "metadata": {},
   "source": [
    "# Task 4: plot bar graph in gender column"
   ]
  },
  {
   "cell_type": "code",
   "execution_count": 17,
   "id": "0dc052dd",
   "metadata": {},
   "outputs": [],
   "source": [
    "import matplotlib.pyplot as plt"
   ]
  },
  {
   "cell_type": "code",
   "execution_count": 18,
   "id": "ae46963f",
   "metadata": {},
   "outputs": [],
   "source": [
    "# Count the occurrences of each gender\n",
    "gender_counts = {}\n",
    "for gender in gender_data:\n",
    "    gender_counts[gender] = gender_counts.get(gender, 0)+1"
   ]
  },
  {
   "cell_type": "code",
   "execution_count": 19,
   "id": "34170215",
   "metadata": {},
   "outputs": [
    {
     "data": {
      "image/png": "[encoded data removed]",
      "text/plain": [
       "<Figure size 640x480 with 1 Axes>"
      ]
     },
     "metadata": {},
     "output_type": "display_data"
    }
   ],
   "source": [
    "plt.bar(gender_counts.keys(), gender_counts.values())\n",
    "plt.xlabel('Gender')\n",
    "plt.title(\"Gender Distribution\")\n",
    "plt.show()"
   ]
  }
 ],
 "metadata": {
  "kernelspec": {
   "display_name": "Python 3 (ipykernel)",
   "language": "python",
   "name": "python3"
  },
  "language_info": {
   "codemirror_mode": {
    "name": "ipython",
    "version": 3
   },
   "file_extension": ".py",
   "mimetype": "text/x-python",
   "name": "python",
   "nbconvert_exporter": "python",
   "pygments_lexer": "ipython3",
   "version": "3.9.13"
  }
 },
 "nbformat": 4,
 "nbformat_minor": 5
}
